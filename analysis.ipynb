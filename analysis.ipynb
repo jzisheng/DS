{
 "cells": [
  {
   "cell_type": "markdown",
   "metadata": {
    "ein.tags": "worksheet-0",
    "slideshow": {
     "slide_type": "-"
    }
   },
   "source": [
    "At Capital One, you'll almost always be working with a diverse team, often including business analysts, engineers, product managers, and senior leaders. The ability to not just complete data science work, but also to explain and present your work is important.\n",
    "With that in mind, please deliver your answers as if you were handing off work to another data scientist joining your team. Tying together your intent, code, analysis and results is the goal.\n",
    "The following artifacts are valued:\n",
    "explanations of your intent, methods, conclusions and any assumptions\n",
    "clear, documented, and well-structured code\n",
    "instructions for running your code\n",
    "methods you attempted that didn't work\n",
    "ideas you didn't have time to complete but would have done with more time\n",
    "a thorough write up with any pertinent visualizations\n",
    "We ask that any code written by others is sourced/cited appropriately. We are excited to review your work and your interpretation of the data."
   ]
  },
  {
   "cell_type": "markdown",
   "metadata": {
    "ein.tags": "worksheet-0",
    "slideshow": {
     "slide_type": "-"
    }
   },
   "source": [
    "Data Science Challenge: Card Transactions!\n",
    "\n",
    "This coding and analysis challenge is designed to test your skill and intuition analyzing real[-ish] world data. For the challenge, we will use credit card transactions data. Note that this dataset loosely resembles real transactional data from Capital One credit card customers, but the entities and relations within are purely fictional. No persons, places, or things lost their identity in the making of this dataset.\n",
    "Required Questions: Please answer completely all four required questions.\n",
    "\n",
    "## Question 1: Load\n",
    "- Programmatically download and load into your favorite analytical tool the transactions data. This data, which is in line-delimited JSON format, can be found here\n",
    "- Please describe the structure of the data. Number of records and fields in each record?\n",
    "- Please provide some additional basic summary statistics for each field. Be sure to include a count of null, minimum, maximum, and unique values where appropriate."
   ]
  },
  {
   "cell_type": "markdown",
   "metadata": {
    "ein.tags": "worksheet-0",
    "slideshow": {
     "slide_type": "-"
    }
   },
   "source": [
    "1(a) Programmatically download and load into your favorite analytical tool the transactions data. This data, which is in line-delimited JSON format, can be found here"
   ]
  },
  {
   "cell_type": "code",
   "execution_count": 764,
   "metadata": {
    "autoscroll": false,
    "collapsed": false,
    "ein.hycell": false,
    "ein.tags": "worksheet-0",
    "slideshow": {
     "slide_type": "-"
    }
   },
   "outputs": [],
   "source": [
    "import numpy as np\n",
    "import matplotlib.pyplot as plt\n",
    "import pandas as pd\n",
    "import json\n",
    "jsonReader = pd.read_json('transactions.txt',lines=True,chunksize=50000)\n",
    "df = next(jsonReader)"
   ]
  },
  {
   "cell_type": "code",
   "execution_count": 765,
   "metadata": {
    "autoscroll": false,
    "collapsed": false,
    "ein.hycell": false,
    "ein.tags": "worksheet-0",
    "slideshow": {
     "slide_type": "-"
    }
   },
   "outputs": [
    {
     "data": {
      "text/plain": [
       "accountNumber                         737265056\ncustomerId                            737265056\ncreditLimit                                5000\navailableMoney                             5000\ntransactionDateTime         2016-08-13 14:27:32\ntransactionAmount                         98.55\nmerchantName                               Uber\nacqCountry                                   US\nmerchantCountryCode                          US\nposEntryMode                                 02\nposConditionCode                             01\nmerchantCategoryCode                  rideshare\ncurrentExpDate                          06/2023\naccountOpenDate                      2015-03-14\ndateOfLastAddressChange              2015-03-14\ncardCVV                                     414\nenteredCVV                                  414\ncardLast4Digits                            1803\ntransactionType                        PURCHASE\nechoBuffer                                     \ncurrentBalance                                0\nmerchantCity                                   \nmerchantState                                  \nmerchantZip                                    \ncardPresent                               False\nposOnPremises                                  \nrecurringAuthInd                               \nexpirationDateKeyInMatch                  False\nisFraud                                   False\nName: 0, dtype: object"
      ]
     },
     "execution_count": 765,
     "metadata": {},
     "output_type": "execute_result"
    }
   ],
   "source": [
    "df['transactionDateTime'] = pd.to_datetime(df.transactionDateTime)\n",
    "df.iloc[0]"
   ]
  },
  {
   "cell_type": "markdown",
   "metadata": {
    "ein.tags": "worksheet-0",
    "slideshow": {
     "slide_type": "-"
    }
   },
   "source": [
    "1(b) Please describe the structure of the data. Number of records and fields in each record?"
   ]
  },
  {
   "cell_type": "markdown",
   "metadata": {
    "ein.tags": "worksheet-0",
    "slideshow": {
     "slide_type": "-"
    }
   },
   "source": [
    "1(c) Please provide some additional basic summary statistics for each field. Be sure to include a count of null, minimum, maximum, and unique values where appropriate.\n",
    "\n",
    "Below are the statistics across the entire dataset. Note that the means are skewed just by the range of customers"
   ]
  },
  {
   "cell_type": "code",
   "execution_count": null,
   "metadata": {
    "autoscroll": false,
    "collapsed": false,
    "ein.hycell": false,
    "ein.tags": "worksheet-0",
    "slideshow": {
     "slide_type": "-"
    }
   },
   "outputs": [
    {
     "data": {
      "text/plain": [
       "       accountNumber    customerId   creditLimit  availableMoney  \\\ncount   5.000000e+04  5.000000e+04  50000.000000    50000.000000   \nmean    5.355273e+08  5.355273e+08   9708.655000     5849.056806   \nstd     2.433660e+08  2.433660e+08  10611.480171     8850.203442   \nmin     1.013807e+08  1.013807e+08    250.000000     -793.620000   \n25%     3.825957e+08  3.825957e+08   5000.000000      981.140000   \n50%     4.489626e+08  4.489626e+08   5000.000000     2852.690000   \n75%     7.452174e+08  7.452174e+08  15000.000000     7005.870000   \nmax     9.963628e+08  9.963628e+08  50000.000000    50000.000000   \n\n       transactionAmount       cardCVV    enteredCVV  cardLast4Digits  \\\ncount       50000.000000  50000.000000  50000.000000     50000.000000   \nmean          137.208715    496.126380    496.017860      4384.211720   \nstd           148.040037    275.432567    275.386515      2614.410113   \nmin             0.000000    101.000000      3.000000         0.000000   \n25%            33.800000    221.000000    221.000000      2701.000000   \n50%            87.355000    494.000000    494.000000      3624.000000   \n75%           191.432500    723.000000    723.000000      6317.000000   \nmax          1434.500000    995.000000    998.000000      9945.000000   \n\n       currentBalance  \ncount    50000.000000  \nmean      3859.598194  \nstd       5401.595431  \nmin          0.000000  \n25%        493.882500  \n50%       2166.975000  \n75%       4638.300000  \nmax      47489.500000  "
      ]
     },
     "execution_count": 766,
     "metadata": {},
     "output_type": "execute_result"
    }
   ],
   "source": [
    "df.describe()"
   ]
  },
  {
   "cell_type": "markdown",
   "metadata": {
    "ein.tags": "worksheet-0",
    "slideshow": {
     "slide_type": "-"
    }
   },
   "source": [
    "## Question 2: Plot\n",
    "- Plot a histogram of the processed amounts of each transaction, the transactionAmount column.\n",
    "- Report any structure you find and any hypotheses you have about that structure.\n",
    "\n",
    "\n",
    "Below is a histogram of transaction amounts\n"
   ]
  },
  {
   "cell_type": "code",
   "execution_count": 773,
   "metadata": {
    "autoscroll": false,
    "collapsed": false,
    "ein.hycell": false,
    "ein.tags": "worksheet-0",
    "slideshow": {
     "slide_type": "-"
    }
   },
   "outputs": [
    {
     "data": {
      "image/png": "[encoded data removed]",
      "text/plain": [
       "<Figure size 432x288 with 1 Axes>"
      ]
     },
     "metadata": {},
     "output_type": "display_data"
    }
   ],
   "source": [
    "plt.hist(df[df.isFraud==False].transactionAmount,bins=40,label='not Fraud',density=True)\n",
    "plt.hist(df[df.isFraud==True].transactionAmount,bins=40,label='isFraud',density=True)\n",
    "plt.title(\"Distribution of Transaction Amount vs Num of Samples\")\n",
    "plt.ylabel(\"num of samples\")\n",
    "plt.xlabel(\"transaction amount\")\n",
    "plt.legend()\n",
    "plt.show()"
   ]
  },
  {
   "cell_type": "markdown",
   "metadata": {
    "ein.tags": "worksheet-0",
    "slideshow": {
     "slide_type": "-"
    }
   },
   "source": [
    "## Question 3: Data Wrangling - Duplicate Transactions\n",
    "You will notice a number of what look like duplicated transactions in the data set. One type of duplicated transaction is a reversed transaction, where a purchase is followed by a reversal. Another example is a multi-swipe, where a vendor accidentally charges a customer's card multiple times within a short time span.\n",
    "- Can you programmatically identify reversed and multi-swipe transactions?\n",
    "- What total number of transactions and total dollar amount do you estimate for the reversed transactions? For the multi-swipe transactions? (please consider the first transaction to be \"normal\" and exclude it from the number of transaction and dollar amount counts)\n",
    "- Did you find anything interesting about either kind of transaction?\n",
    "\n",
    "\n",
    "Questions about dataset:\n",
    "ask abotu 'duplicate transactions', \n",
    "why is available money unchanging for some people, how far aprt does a tx have to be in order for it not to be a duplicate\n"
   ]
  },
  {
   "cell_type": "code",
   "execution_count": 368,
   "metadata": {
    "autoscroll": false,
    "collapsed": false,
    "ein.hycell": false,
    "ein.tags": "worksheet-0",
    "slideshow": {
     "slide_type": "-"
    }
   },
   "outputs": [
    {
     "data": {
      "text/plain": [
       "array(['', 'ADDRESS_VERIFICATION', 'PURCHASE', 'REVERSAL'], dtype=object)"
      ]
     },
     "execution_count": 368,
     "metadata": {},
     "output_type": "execute_result"
    }
   ],
   "source": [
    "\"\"\"\n",
    "There are four different types of transaction types:\n",
    "address verification, purchase, and reversal\n",
    "\"\"\"\n",
    "np.unique(df.transactionType)"
   ]
  },
  {
   "cell_type": "code",
   "execution_count": 277,
   "metadata": {
    "autoscroll": false,
    "collapsed": false,
    "ein.hycell": false,
    "ein.tags": "worksheet-0",
    "slideshow": {
     "slide_type": "-"
    }
   },
   "outputs": [],
   "source": [
    "import scripts.utils as utils\n",
    "imp.reload(utils)\n",
    "# First start with one account, look at account with highest number of txs\n",
    "accts, counts = np.unique(df['accountNumber'],return_counts=True)\n",
    "\n",
    "# Subselect the account with highest activity, and sort by transaction\n",
    "acctIdMostTransactions = accts[np.argmax(counts)]\n",
    "\n",
    "\"\"\"\n",
    "with respect to detecting reverse transactions,\n",
    "the only way to predict them were if the transaction amount\n",
    "is the same\n",
    "\"\"\"\n",
    "duplicateTxs = utils.predictDuplicateByUser(df,acctIdMostTransactions)\n"
   ]
  },
  {
   "cell_type": "markdown",
   "metadata": {
    "ein.tags": "worksheet-0",
    "slideshow": {
     "slide_type": "-"
    }
   },
   "source": [
    "## Question 4: Model\n",
    "Fraud is a problem for any bank. Fraud can take many forms, whether it is someone stealing a single credit card, to large batches of stolen credit card numbers being used on the web, or even a mass compromise of credit card numbers stolen from a merchant via tools like credit card skimming devices.\n",
    "- Each of the transactions in the dataset has a field called isFraud. Please build a predictive model to determine whether a given transaction will be fraudulent or not. Use as much of the data as you like (or all of it).\n",
    "- Provide an estimate of performance using an appropriate sample, and show your work.\n",
    "- Please explain your methodology (modeling algorithm/method used and why, what features/data you found useful, what questions you have, and what you would do next with more time)\n",
    "Thank you very much for your efforts! We look forward to reviewing your insights!\n",
    "\n",
    "- \"credit card skimmers\" if one pos had significant # of fraudulent txs consider looking at it\n",
    "- engineered feature of time between last transaction?\n"
   ]
  },
  {
   "cell_type": "code",
   "execution_count": 714,
   "metadata": {
    "autoscroll": false,
    "collapsed": false,
    "ein.hycell": false,
    "ein.tags": "worksheet-0",
    "slideshow": {
     "slide_type": "-"
    }
   },
   "outputs": [],
   "source": [
    "\"\"\"\n",
    "Data preloading\n",
    "\"\"\"\n",
    "import scripts.utils as utils\n",
    "imp.reload(utils)\n",
    "\n",
    "# this iterates through each\n",
    "allUserTxsDf = utils.calculateUser(df)\n",
    "allUserTxsDf = utils.encodeColumn(allUserTxsDf)\n",
    "allUserTxsDf = utils.encodeColumn(allUserTxsDf,col='merchantCategoryCode')\n",
    "balancedDf = utils.upsampleMinority(allUserTxsDf)"
   ]
  },
  {
   "cell_type": "code",
   "execution_count": null,
   "metadata": {
    "autoscroll": false,
    "collapsed": false,
    "ein.hycell": false,
    "ein.tags": "worksheet-0",
    "slideshow": {
     "slide_type": "-"
    }
   },
   "outputs": [],
   "source": [
    "\"\"\"\n",
    "Implementing autoencoder model\n",
    "\"\"\"\n",
    "\n",
    "import autoencoder as ae\n",
    "imp.reload(ae)\n",
    "\n",
    "aeModel = ae.Autoencoder()"
   ]
  },
  {
   "cell_type": "code",
   "execution_count": 716,
   "metadata": {
    "autoscroll": false,
    "collapsed": false,
    "ein.hycell": false,
    "ein.tags": "worksheet-0",
    "slideshow": {
     "slide_type": "-"
    }
   },
   "outputs": [
    {
     "name": "stdout",
     "output_type": "stream",
     "text": [
      "Dataset unbalanced\n",
      "False    49317\n",
      "True       683\n",
      "Name: isFraud, dtype: int64\n",
      "\n",
      "Dataset balanced\n",
      "True     49317\n",
      "False    49317\n",
      "Name: isFraud, dtype: int64\n"
     ]
    }
   ],
   "source": [
    "\n",
    "import scripts.Dataset as dataset\n",
    "imp.reload(dataset)\n",
    "print(\"Dataset unbalanced\")\n",
    "print(allUserTxsDf.isFraud.value_counts())\n",
    "print(\"\\nDataset balanced\")\n",
    "print(balancedDf.isFraud.value_counts())\n",
    "train_df,test_df = train_test_split(balancedDf,test_size=0.25, random_state=10)\n",
    "trainDataset = dataset.DfDataset(train_df)\n",
    "testDataset = dataset.DfDataset(test_df)\n",
    "train_dataset_loader = torch.utils.data.DataLoader(dataset=trainDataset,\n",
    "                                             batch_size=1,\n",
    "                                             shuffle=False)\n",
    "test_dataset_loader = torch.utils.data.DataLoader(dataset=testDataset,\n",
    "                                             batch_size=1,\n",
    "                                             shuffle=False)\n"
   ]
  },
  {
   "cell_type": "code",
   "execution_count": 741,
   "metadata": {
    "autoscroll": false,
    "collapsed": false,
    "ein.hycell": false,
    "ein.tags": "worksheet-0",
    "slideshow": {
     "slide_type": "-"
    }
   },
   "outputs": [
    {
     "data": {
      "image/png": "[encoded data removed]",
      "text/plain": [
       "<Figure size 432x288 with 1 Axes>"
      ]
     },
     "metadata": {},
     "output_type": "display_data"
    }
   ],
   "source": [
    "\"\"\"\n",
    "Implementing a CNN model\n",
    "\"\"\"\n",
    "\n",
    "import scripts.models as m\n",
    "import torch\n",
    "import numpy as np\n",
    "torch.manual_seed(0)\n",
    "np.random.seed(0)\n",
    "imp.reload(m)\n",
    "cnnModel = m.Net()\n",
    "optimizer = optim.Adam(cnnModel.parameters(), lr=0.001)\n",
    "costs = []\n",
    "for epoch in range(1):\n",
    "    for i, (data, labels) in enumerate(train_dataset_loader):\n",
    "        optimizer.zero_grad()\n",
    "        output = cnnModel(data)\n",
    "        loss = F.binary_cross_entropy(output, labels)\n",
    "        loss.backward()\n",
    "        optimizer.step()\n",
    "        if(i%1000 == 0): print(loss)\n",
    "        costs.append(loss.item())\n",
    "        pass\n",
    "    pass\n"
   ]
  },
  {
   "cell_type": "code",
   "execution_count": 719,
   "metadata": {
    "autoscroll": false,
    "collapsed": false,
    "ein.hycell": false,
    "ein.tags": "worksheet-0",
    "slideshow": {
     "slide_type": "-"
    }
   },
   "outputs": [
    {
     "name": "stdout",
     "output_type": "stream",
     "text": [
      "mean cross entropy on test dataset: 0.6487066132657661\n"
     ]
    }
   ],
   "source": [
    "result = []\n",
    "yHats =[]\n",
    "gts = []\n",
    "for i, (data, labels) in enumerate(test_dataset_loader):\n",
    "    optimizer.zero_grad()\n",
    "    output = cnnModel(data)\n",
    "    yHats.append(output[0].detach())\n",
    "    gts.append(labels[0].detach())    \n",
    "    loss = F.binary_cross_entropy(output, labels)\n",
    "    loss.backward()\n",
    "    optimizer.step()\n",
    "    result.append(loss.item())\n",
    "\n",
    "print(\"mean cross entropy on test dataset: {}\".format(np.mean(result)))"
   ]
  },
  {
   "cell_type": "code",
   "execution_count": 774,
   "metadata": {
    "autoscroll": false,
    "collapsed": false,
    "ein.hycell": false,
    "ein.tags": "worksheet-0",
    "slideshow": {
     "slide_type": "-"
    }
   },
   "outputs": [
    {
     "data": {
      "text/plain": [
       "Text(0.5, 0, 'Recall')"
      ]
     },
     "execution_count": 774,
     "metadata": {},
     "output_type": "execute_result"
    },
    {
     "data": {
      "image/png": "[encoded data removed]",
      "text/plain": [
       "<Figure size 432x288 with 1 Axes>"
      ]
     },
     "metadata": {},
     "output_type": "display_data"
    }
   ],
   "source": [
    "from sklearn.metrics import precision_recall_curve,\\\n",
    "    confusion_matrix,precision_score,accuracy_score\n",
    "\n",
    "yHats = (np.array(yHats))\n",
    "gts = (np.array(gts))\n",
    "precision, recall, thresholds = precision_recall_curve(\n",
    "    gts, yHats)\n",
    "plt.plot(recall,precision)\n",
    "plt.title(\"precision recall curve of samples\")\n",
    "plt.xlim(0,1)\n",
    "plt.ylim(0,1)\n",
    "plt.ylabel(\"Precision\")\n",
    "plt.xlabel(\"Recall\")"
   ]
  },
  {
   "cell_type": "code",
   "execution_count": 759,
   "metadata": {
    "autoscroll": false,
    "collapsed": false,
    "ein.hycell": false,
    "ein.tags": "worksheet-0",
    "slideshow": {
     "slide_type": "-"
    }
   },
   "outputs": [
    {
     "name": "stdout",
     "output_type": "stream",
     "text": [
      "labels\n",
      "[[6566 5723]\n",
      " [3756 8614]]\n",
      "acc : 0.6155967395271503\n",
      "prec: 0.6008230452674898\n"
     ]
    }
   ],
   "source": [
    "print(\"labels\")\n",
    "print(confusion_matrix(gts,yHats>0.5))\n",
    "print(\"acc : {}\".format(accuracy_score(gts,yHats>0.5)))\n",
    "print(\"prec: {}\".format(precision_score(gts,yHats>0.5)))"
   ]
  },
  {
   "cell_type": "markdown",
   "metadata": {
    "ein.tags": "worksheet-0",
    "slideshow": {
     "slide_type": "-"
    }
   },
   "source": [
    "from sklearn.preprocessing import normalize\n",
    "normalize(np.array([[0,3],[0,2],[1,1]]),axis=0)\n",
    "\n",
    "\n",
    "\n",
    "\n",
    "\"\"\"\n",
    "scratchwork below\n",
    "\"\"\"\n",
    "\n",
    "allUserTxsDf.columns\n",
    "\n",
    "import scripts.Dataset as dataset\n",
    "import imp\n",
    "imp.reload(dataset)\n",
    "custom_from_csv = dataset.CustomDatasetFromCSV('transactions.txt')\n",
    "dataset_loader = torch.utils.data.DataLoader(dataset=custom_from_csv,\n",
    "                                             batch_size=10,\n",
    "                                             shuffle=False)\n",
    "cnnModel = Net()\n",
    "optimizer = optim.SGD(cnnModel.parameters(), lr=0.001)\n",
    "for i, (data, labels) in enumerate(dataset_loader):\n",
    "    try:\n",
    "        optimizer.zero_grad()\n",
    "        output = cnnModel(datum)\n",
    "        loss = F.mse_loss(output, labels)\n",
    "        loss.backward()\n",
    "        optimizer.step()\n",
    "        if(i%1000==0): print(loss)\n",
    "    except RuntimeError:\n",
    "        print(data.shape)\n",
    "        print(labels.shape) \n",
    "\n",
    "\n",
    "from sklearn.preprocessing import LabelEncoder, OneHotEncoder\n",
    "from sklearn.model_selection import train_test_split\n",
    "from sklearn.utils import resample\n",
    "from sklearn.linear_model import LogisticRegression\n",
    "\n",
    "columns = ['availableMoney','creditLimit','transactionAmount','isFraud',\n",
    "           'transactionDateTime','accountNumber','merchantName']\n",
    "dataset_df = df.head(10000)\n",
    "dataset_df = dataset_df[columns]\n",
    "\n",
    "\n",
    "\n",
    "\n",
    "# creating initial dataframe\n",
    "merchant_types = np.unique(dataset_df.merchantName)\n",
    "merchant_df = pd.DataFrame(merchant_types, columns=['merchant_types'])\n",
    "merchant_df\n",
    "# creating instance of labelencoder\n",
    "labelencoder = LabelEncoder()\n",
    "# Assigning numerical values and storing in another column\n",
    "merchant_df['merchant_cat'] = labelencoder.fit_transform(merchant_df['merchant_types'])\n",
    "dataset_df[dataset_df.isFraud==1].shape\n",
    "# creating instance of one-hot-encoder\n",
    "enc = OneHotEncoder(handle_unknown='ignore')\n",
    "# passing bridge-types-cat column (label encoded values of bridge_types)\n",
    "enc_df = pd.DataFrame(enc.fit_transform(merchant_df[['merchant_cat']]).toarray())\n",
    "# merge with main df and enc_df\n",
    "transactions_df = dataset_df.drop(columns=['merchantName'])\n",
    "transactions_df = transactions_df.join(enc_df).fillna(0)\n",
    "# Separate input features and target\n",
    "y = transactions_df.isFraud\n",
    "X = transactions_df.drop('isFraud', axis=1)\n",
    "# setting up testing and training sets\n",
    "X_train, X_test, y_train, y_test = train_test_split(X, y,\n",
    "                                                    test_size=0.25, random_state=0)\n",
    "# concatenate our training data back together\n",
    "X = pd.concat([X_train, y_train], axis=1)\n",
    "\n",
    "y[y==True].shape\n",
    "# separate minority and majority classes\n",
    "not_fraud = X[X.isFraud==0]\n",
    "fraud = X[X.isFraud==1]\n",
    "\n",
    "# upsample minority\n",
    "fraud_upsampled = resample(fraud,\n",
    "                          replace=True, # sample with replacement\n",
    "                          n_samples=len(not_fraud), # match number in majority class\n",
    "                          random_state=27) # reproducible results\n",
    "# combine majority and upsampled minority\n",
    "upsampled = pd.concat([not_fraud, fraud_upsampled])\n",
    "# check new class counts\n",
    "upsampled.isFraud.value_counts()\n",
    "\n",
    "y_train = upsampled.isFraud\n",
    "X_train = upsampled.drop('isFraud', axis=1)\n",
    "\n",
    "upsampled = LogisticRegression(solver='liblinear').fit(X_train, y_train)\n",
    "\n",
    "upsampled_pred = upsampled.predict(X_test)\n",
    "upsampled_pred_proba = upsampled.predict_proba(X_test)[:,1]\n",
    "\n",
    "# Checking accuracy\n",
    "print(\"acc: {}\".format(accuracy_score(y_test, upsampled_pred)))\n",
    "print(\"f1:  {}\".format(f1_score(y_test, upsampled_pred)))\n",
    "print(\"p : {}\".format(precision_score(y_test, upsampled_pred)))\n",
    "\n",
    "precision, recall, thresholds = precision_recall_curve(y_test,\n",
    "                                                       upsampled_pred_proba)\n",
    "plt.plot(recall,precision)\n",
    "plt.xlabel(\"recall\")\n",
    "plt.ylabel(\"precision\")\n",
    "plt.show()\n",
    "\n",
    "fraud.shape\n",
    "\"\"\"\n",
    "now implementation of autoencoder\n",
    "\"\"\"\n",
    "import scripts.autoencoder as ae\n",
    "from sklearn.preprocessing import normalize\n",
    "import torch\n",
    "import torch.nn.functional as F\n",
    "import imp\n",
    "imp.reload(ae)\n",
    "\n",
    "# normalize( np.array([[0,1],[0,2],[1,3]]),axis=0) \n",
    "# aeX = normalize( transactions_df.drop('isFraud', axis=1).values , axis=0 )\n",
    "aeX = transactions_df.drop('isFraud', axis=1).values \n",
    "aeY = transactions_df.isFraud.values\n",
    "print(aeY[aeY==1].shape)\n",
    "print(aeX.shape)\n",
    "\n",
    "modelAe = ae.Autoencoder(200)\n",
    "\n",
    "t_X = torch.tensor(aeX).float()\n",
    "num_epochs = 2\n",
    "learning_rate=0.0001\n",
    "torch.manual_seed(10)\n",
    "optimizer = torch.optim.Adam(modelAe.parameters(), lr=learning_rate)\n",
    "\n",
    "\n",
    "for epoch in range(num_epochs+1):\n",
    "    for idx in range(npX.shape[0]):\n",
    "        features = t_X[idx,:]            \n",
    "        decoded = modelAe(features)\n",
    "        cost = F.mse_loss(decoded, features)\n",
    "        optimizer.zero_grad()\n",
    "        cost.backward()\n",
    "        optimizer.step()\n",
    "        # Logginh\n",
    "        if not idx % 5000:\n",
    "            print ('Epoch: %03d/%03d | Batch %03d/%03d | Cost: %.4f' \n",
    "                   %(epoch+1, num_epochs, idx, \n",
    "                     npX.shape[0], cost))\n",
    "            pass\n",
    "        pass\n",
    "    pass\n",
    "import matplotlib.pyplot as plt\n",
    "pltRows = np.array(modelAe.encode(t_X).detach())\n",
    "pltX, pltY = pltRows[:,0],pltRows[:,1]\n",
    "\n",
    "plt.figure(figsize=(10,10))\n",
    "# Plot false labels\n",
    "mask = aeY==False\n",
    "plt.scatter(pltX[mask],pltY[mask],label='notFraud',s=0.5)\n",
    "# Plot true labels\n",
    "mask = aeY==True\n",
    "plt.scatter(pltX[mask],pltY[mask],label='isFraud',s=1)\n",
    "plt.legend()\n",
    "plt.plot()\n",
    "### Potential paths of exploration:\n",
    "\n",
    "two potential paths:\n",
    "\n",
    "use a autoencoder\n",
    "\n",
    "train encoder to predict label, freeze the encoder \n",
    "\n",
    "and use CNN to train\n",
    "\n",
    "binary representation of number of labels"
   ]
  },
  {
   "cell_type": "code",
   "execution_count": 192,
   "metadata": {
    "autoscroll": false,
    "collapsed": false,
    "ein.hycell": false,
    "ein.tags": "worksheet-0",
    "slideshow": {
     "slide_type": "-"
    }
   },
   "outputs": [],
   "source": [
    "\"\"\"\n",
    "CNN Implementation\n",
    "\"\"\"\n",
    "import scripts.utils as utils\n",
    "cnndf = pd.concat(utils.calculateUser(df.head(10000)))\n",
    "columns = ['availableMoney','creditLimit','cardPresent','transactionAmount',\n",
    "           'transactionAmountMedian','encodedTime',\n",
    "          'transactionAmountMean','hourDelta','transactionAmountStd']\n",
    "#cnn_df_x = cnndf[columns]\n",
    "#cnn_df_y = cnndf['isFraud']\n",
    "\n"
   ]
  },
  {
   "cell_type": "code",
   "execution_count": 282,
   "metadata": {
    "autoscroll": false,
    "collapsed": false,
    "ein.hycell": false,
    "ein.tags": "worksheet-0",
    "slideshow": {
     "slide_type": "-"
    }
   },
   "outputs": [],
   "source": [
    "\n"
   ]
  },
  {
   "cell_type": "code",
   "execution_count": null,
   "metadata": {
    "autoscroll": false,
    "collapsed": false,
    "ein.hycell": false,
    "ein.tags": "worksheet-0",
    "slideshow": {
     "slide_type": "-"
    }
   },
   "outputs": [],
   "source": []
  }
 ],
 "metadata": {
  "kernelspec": {
   "display_name": "Python 3",
   "name": "python3"
  },
  "language_info": {
   "codemirror_mode": {
    "name": "ipython",
    "version": 3
   },
   "file_extension": ".py",
   "mimetype": "text/x-python",
   "name": "python",
   "nbconvert_exporter": "python",
   "pygments_lexer": "ipython3",
   "version": "3.7.2"
  },
  "name": "analysis.ipynb"
 },
 "nbformat": 4,
 "nbformat_minor": 2
}
