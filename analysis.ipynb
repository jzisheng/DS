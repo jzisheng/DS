{
 "cells": [
  {
   "cell_type": "markdown",
   "metadata": {
    "ein.tags": "worksheet-0",
    "slideshow": {
     "slide_type": "-"
    }
   },
   "source": [
    "## Captial One DSC\n",
    "Zisheng Jason Chang\n",
    "Submission Version (v20.01) \n",
    "\n",
    "ZJC Candidate ID: ( C1540358 )"
   ]
  },
  {
   "cell_type": "markdown",
   "metadata": {
    "ein.tags": "worksheet-0",
    "slideshow": {
     "slide_type": "-"
    }
   },
   "source": [
    "Data Science Challenge: Card Transactions!\n",
    "\n",
    "This coding and analysis challenge is designed to test your skill and intuition analyzing real[-ish] world data. For the challenge, we will use credit card transactions data. Note that this dataset loosely resembles real transactional data from Capital One credit card customers, but the entities and relations within are purely fictional. No persons, places, or things lost their identity in the making of this dataset.\n",
    "Required Questions: Please answer completely all four required questions.\n",
    "\n",
    "## Question 1: Load\n",
    "**1(a) Programmatically download and load into your favorite analytical tool the transactions data. This data, which is in line-delimited JSON format, can be found here**\n",
    "\n",
    "\n",
    "I'll be using the package pandas to read the dataset. Due to the size of the line delimited JSON File I'll read the first 50,000 lines."
   ]
  },
  {
   "cell_type": "code",
   "execution_count": 1,
   "metadata": {
    "autoscroll": false,
    "ein.hycell": false,
    "ein.tags": "worksheet-0",
    "jupyter": {
     "outputs_hidden": false
    },
    "slideshow": {
     "slide_type": "-"
    }
   },
   "outputs": [],
   "source": [
    "import numpy as np\n",
    "import matplotlib.pyplot as plt\n",
    "import pandas as pd\n",
    "import json\n",
    "import imp\n",
    "jsonReader = pd.read_json('transactions.txt',lines=True,chunksize=50000)\n",
    "df = next(jsonReader)"
   ]
  },
  {
   "cell_type": "markdown",
   "metadata": {},
   "source": [
    "For each line there are a total of 29 features. I've converted transaciton date time into a column date time."
   ]
  },
  {
   "cell_type": "code",
   "execution_count": 2,
   "metadata": {
    "autoscroll": false,
    "ein.hycell": false,
    "ein.tags": "worksheet-0",
    "jupyter": {
     "outputs_hidden": false
    },
    "slideshow": {
     "slide_type": "-"
    }
   },
   "outputs": [
    {
     "data": {
      "text/plain": [
       "accountNumber                         737265056\n",
       "customerId                            737265056\n",
       "creditLimit                                5000\n",
       "availableMoney                             5000\n",
       "transactionDateTime         2016-08-13 14:27:32\n",
       "transactionAmount                         98.55\n",
       "merchantName                               Uber\n",
       "acqCountry                                   US\n",
       "merchantCountryCode                          US\n",
       "posEntryMode                                 02\n",
       "posConditionCode                             01\n",
       "merchantCategoryCode                  rideshare\n",
       "currentExpDate                          06/2023\n",
       "accountOpenDate                      2015-03-14\n",
       "dateOfLastAddressChange              2015-03-14\n",
       "cardCVV                                     414\n",
       "enteredCVV                                  414\n",
       "cardLast4Digits                            1803\n",
       "transactionType                        PURCHASE\n",
       "echoBuffer                                     \n",
       "currentBalance                                0\n",
       "merchantCity                                   \n",
       "merchantState                                  \n",
       "merchantZip                                    \n",
       "cardPresent                               False\n",
       "posOnPremises                                  \n",
       "recurringAuthInd                               \n",
       "expirationDateKeyInMatch                  False\n",
       "isFraud                                   False\n",
       "Name: 0, dtype: object"
      ]
     },
     "execution_count": 2,
     "metadata": {},
     "output_type": "execute_result"
    }
   ],
   "source": [
    "df['transactionDateTime'] = pd.to_datetime(df.transactionDateTime)\n",
    "df.iloc[0]"
   ]
  },
  {
   "cell_type": "markdown",
   "metadata": {
    "ein.tags": "worksheet-0",
    "slideshow": {
     "slide_type": "-"
    }
   },
   "source": [
    "**1(b) Please describe the structure of the data. Number of records and fields in each record?**"
   ]
  },
  {
   "cell_type": "markdown",
   "metadata": {},
   "source": [
    "After reading the dataset the structure of the JSON lines are shown below. The only numeric(floats and ints) columns are accountNumber, customerId, creditLimit, availableMoney,transactionAmount, enteredCVV, cardLast4Digits, currentBalance. All other columns are stored as objects and booleans"
   ]
  },
  {
   "cell_type": "code",
   "execution_count": 3,
   "metadata": {},
   "outputs": [
    {
     "data": {
      "text/plain": [
       "accountNumber                        int64\n",
       "customerId                           int64\n",
       "creditLimit                          int64\n",
       "availableMoney                     float64\n",
       "transactionDateTime         datetime64[ns]\n",
       "transactionAmount                  float64\n",
       "merchantName                        object\n",
       "acqCountry                          object\n",
       "merchantCountryCode                 object\n",
       "posEntryMode                        object\n",
       "posConditionCode                    object\n",
       "merchantCategoryCode                object\n",
       "currentExpDate                      object\n",
       "accountOpenDate                     object\n",
       "dateOfLastAddressChange             object\n",
       "cardCVV                              int64\n",
       "enteredCVV                           int64\n",
       "cardLast4Digits                      int64\n",
       "transactionType                     object\n",
       "echoBuffer                          object\n",
       "currentBalance                     float64\n",
       "merchantCity                        object\n",
       "merchantState                       object\n",
       "merchantZip                         object\n",
       "cardPresent                           bool\n",
       "posOnPremises                       object\n",
       "recurringAuthInd                    object\n",
       "expirationDateKeyInMatch              bool\n",
       "isFraud                               bool\n",
       "dtype: object"
      ]
     },
     "execution_count": 3,
     "metadata": {},
     "output_type": "execute_result"
    }
   ],
   "source": [
    "df.dtypes"
   ]
  },
  {
   "cell_type": "markdown",
   "metadata": {
    "ein.tags": "worksheet-0",
    "slideshow": {
     "slide_type": "-"
    }
   },
   "source": [
    "**1(c) Please provide some additional basic summary statistics for each field. Be sure to include a count of null, minimum, maximum, and unique values where appropriate.**\n",
    "\n",
    "Below are the statistics across the entire dataset. for each of the numeric columns their minimum, maximum are shown below"
   ]
  },
  {
   "cell_type": "code",
   "execution_count": 4,
   "metadata": {
    "autoscroll": false,
    "ein.hycell": false,
    "ein.tags": "worksheet-0",
    "jupyter": {
     "outputs_hidden": false
    },
    "slideshow": {
     "slide_type": "-"
    }
   },
   "outputs": [
    {
     "data": {
      "text/html": [
       "<div>\n",
       "<style scoped>\n",
       "    .dataframe tbody tr th:only-of-type {\n",
       "        vertical-align: middle;\n",
       "    }\n",
       "\n",
       "    .dataframe tbody tr th {\n",
       "        vertical-align: top;\n",
       "    }\n",
       "\n",
       "    .dataframe thead th {\n",
       "        text-align: right;\n",
       "    }\n",
       "</style>\n",
       "<table border=\"1\" class=\"dataframe\">\n",
       "  <thead>\n",
       "    <tr style=\"text-align: right;\">\n",
       "      <th></th>\n",
       "      <th>accountNumber</th>\n",
       "      <th>customerId</th>\n",
       "      <th>creditLimit</th>\n",
       "      <th>availableMoney</th>\n",
       "      <th>transactionAmount</th>\n",
       "      <th>cardCVV</th>\n",
       "      <th>enteredCVV</th>\n",
       "      <th>cardLast4Digits</th>\n",
       "      <th>currentBalance</th>\n",
       "    </tr>\n",
       "  </thead>\n",
       "  <tbody>\n",
       "    <tr>\n",
       "      <th>count</th>\n",
       "      <td>5.000000e+04</td>\n",
       "      <td>5.000000e+04</td>\n",
       "      <td>50000.000000</td>\n",
       "      <td>50000.000000</td>\n",
       "      <td>50000.000000</td>\n",
       "      <td>50000.000000</td>\n",
       "      <td>50000.000000</td>\n",
       "      <td>50000.000000</td>\n",
       "      <td>50000.000000</td>\n",
       "    </tr>\n",
       "    <tr>\n",
       "      <th>mean</th>\n",
       "      <td>5.355273e+08</td>\n",
       "      <td>5.355273e+08</td>\n",
       "      <td>9708.655000</td>\n",
       "      <td>5849.056806</td>\n",
       "      <td>137.208715</td>\n",
       "      <td>496.126380</td>\n",
       "      <td>496.017860</td>\n",
       "      <td>4384.211720</td>\n",
       "      <td>3859.598194</td>\n",
       "    </tr>\n",
       "    <tr>\n",
       "      <th>std</th>\n",
       "      <td>2.433660e+08</td>\n",
       "      <td>2.433660e+08</td>\n",
       "      <td>10611.480171</td>\n",
       "      <td>8850.203442</td>\n",
       "      <td>148.040037</td>\n",
       "      <td>275.432567</td>\n",
       "      <td>275.386515</td>\n",
       "      <td>2614.410113</td>\n",
       "      <td>5401.595431</td>\n",
       "    </tr>\n",
       "    <tr>\n",
       "      <th>min</th>\n",
       "      <td>1.013807e+08</td>\n",
       "      <td>1.013807e+08</td>\n",
       "      <td>250.000000</td>\n",
       "      <td>-793.620000</td>\n",
       "      <td>0.000000</td>\n",
       "      <td>101.000000</td>\n",
       "      <td>3.000000</td>\n",
       "      <td>0.000000</td>\n",
       "      <td>0.000000</td>\n",
       "    </tr>\n",
       "    <tr>\n",
       "      <th>25%</th>\n",
       "      <td>3.825957e+08</td>\n",
       "      <td>3.825957e+08</td>\n",
       "      <td>5000.000000</td>\n",
       "      <td>981.140000</td>\n",
       "      <td>33.800000</td>\n",
       "      <td>221.000000</td>\n",
       "      <td>221.000000</td>\n",
       "      <td>2701.000000</td>\n",
       "      <td>493.882500</td>\n",
       "    </tr>\n",
       "    <tr>\n",
       "      <th>50%</th>\n",
       "      <td>4.489626e+08</td>\n",
       "      <td>4.489626e+08</td>\n",
       "      <td>5000.000000</td>\n",
       "      <td>2852.690000</td>\n",
       "      <td>87.355000</td>\n",
       "      <td>494.000000</td>\n",
       "      <td>494.000000</td>\n",
       "      <td>3624.000000</td>\n",
       "      <td>2166.975000</td>\n",
       "    </tr>\n",
       "    <tr>\n",
       "      <th>75%</th>\n",
       "      <td>7.452174e+08</td>\n",
       "      <td>7.452174e+08</td>\n",
       "      <td>15000.000000</td>\n",
       "      <td>7005.870000</td>\n",
       "      <td>191.432500</td>\n",
       "      <td>723.000000</td>\n",
       "      <td>723.000000</td>\n",
       "      <td>6317.000000</td>\n",
       "      <td>4638.300000</td>\n",
       "    </tr>\n",
       "    <tr>\n",
       "      <th>max</th>\n",
       "      <td>9.963628e+08</td>\n",
       "      <td>9.963628e+08</td>\n",
       "      <td>50000.000000</td>\n",
       "      <td>50000.000000</td>\n",
       "      <td>1434.500000</td>\n",
       "      <td>995.000000</td>\n",
       "      <td>998.000000</td>\n",
       "      <td>9945.000000</td>\n",
       "      <td>47489.500000</td>\n",
       "    </tr>\n",
       "  </tbody>\n",
       "</table>\n",
       "</div>"
      ],
      "text/plain": [
       "       accountNumber    customerId   creditLimit  availableMoney  \\\n",
       "count   5.000000e+04  5.000000e+04  50000.000000    50000.000000   \n",
       "mean    5.355273e+08  5.355273e+08   9708.655000     5849.056806   \n",
       "std     2.433660e+08  2.433660e+08  10611.480171     8850.203442   \n",
       "min     1.013807e+08  1.013807e+08    250.000000     -793.620000   \n",
       "25%     3.825957e+08  3.825957e+08   5000.000000      981.140000   \n",
       "50%     4.489626e+08  4.489626e+08   5000.000000     2852.690000   \n",
       "75%     7.452174e+08  7.452174e+08  15000.000000     7005.870000   \n",
       "max     9.963628e+08  9.963628e+08  50000.000000    50000.000000   \n",
       "\n",
       "       transactionAmount       cardCVV    enteredCVV  cardLast4Digits  \\\n",
       "count       50000.000000  50000.000000  50000.000000     50000.000000   \n",
       "mean          137.208715    496.126380    496.017860      4384.211720   \n",
       "std           148.040037    275.432567    275.386515      2614.410113   \n",
       "min             0.000000    101.000000      3.000000         0.000000   \n",
       "25%            33.800000    221.000000    221.000000      2701.000000   \n",
       "50%            87.355000    494.000000    494.000000      3624.000000   \n",
       "75%           191.432500    723.000000    723.000000      6317.000000   \n",
       "max          1434.500000    995.000000    998.000000      9945.000000   \n",
       "\n",
       "       currentBalance  \n",
       "count    50000.000000  \n",
       "mean      3859.598194  \n",
       "std       5401.595431  \n",
       "min          0.000000  \n",
       "25%        493.882500  \n",
       "50%       2166.975000  \n",
       "75%       4638.300000  \n",
       "max      47489.500000  "
      ]
     },
     "execution_count": 4,
     "metadata": {},
     "output_type": "execute_result"
    }
   ],
   "source": [
    "described = df.describe()\n",
    "described"
   ]
  },
  {
   "cell_type": "markdown",
   "metadata": {},
   "source": [
    "For the boolean columns I've included a count of their types below. "
   ]
  },
  {
   "cell_type": "code",
   "execution_count": 5,
   "metadata": {},
   "outputs": [
    {
     "name": "stdout",
     "output_type": "stream",
     "text": [
      "=== cardPresent object value counts: ===\n",
      "False    27753\n",
      "True     22247\n",
      "Name: cardPresent, dtype: int64\n",
      "=== expirationDateKeyInMatch object value counts: ===\n",
      "False    49948\n",
      "True        52\n",
      "Name: expirationDateKeyInMatch, dtype: int64\n",
      "=== isFraud object value counts: ===\n",
      "False    49317\n",
      "True       683\n",
      "Name: isFraud, dtype: int64\n"
     ]
    }
   ],
   "source": [
    "types = df.dtypes\n",
    "for colStr,obj in (types.iteritems()):\n",
    "    if (obj==bool):\n",
    "        print(\"=== {} object value counts: ===\".format(colStr))\n",
    "        print(df[colStr].value_counts())"
   ]
  },
  {
   "cell_type": "markdown",
   "metadata": {},
   "source": [
    "For the category columns there are missing values in all of them except for merchant category code. For the merchant category code, there are no missing values"
   ]
  },
  {
   "cell_type": "code",
   "execution_count": 6,
   "metadata": {},
   "outputs": [
    {
     "name": "stdout",
     "output_type": "stream",
     "text": [
      "=== acqCountry object value counts: ===\n",
      "US     49259\n",
      "         264\n",
      "MEX      208\n",
      "CAN      156\n",
      "PR       113\n",
      "Name: acqCountry, dtype: int64\n",
      "\n",
      "=== merchantCountryCode object value counts: ===\n",
      "US     49472\n",
      "MEX      211\n",
      "CAN      158\n",
      "PR       114\n",
      "          45\n",
      "Name: merchantCountryCode, dtype: int64\n",
      "\n",
      "=== posEntryMode object value counts: ===\n",
      "05    20001\n",
      "09    15133\n",
      "02    12288\n",
      "90     1234\n",
      "80     1062\n",
      "        282\n",
      "Name: posEntryMode, dtype: int64\n",
      "\n",
      "=== posEntryMode object value counts: ===\n",
      "05    20001\n",
      "09    15133\n",
      "02    12288\n",
      "90     1234\n",
      "80     1062\n",
      "        282\n",
      "Name: posEntryMode, dtype: int64\n",
      "\n",
      "=== posConditionCode object value counts: ===\n",
      "01    39972\n",
      "08     9533\n",
      "99      465\n",
      "         30\n",
      "Name: posConditionCode, dtype: int64\n",
      "\n",
      "=== merchantCategoryCode object value counts: ===\n",
      "online_retail           14259\n",
      "fastfood                 6938\n",
      "food                     5529\n",
      "entertainment            5117\n",
      "rideshare                4150\n",
      "online_gifts             3369\n",
      "fuel                     1767\n",
      "auto                     1746\n",
      "health                   1427\n",
      "personal care            1110\n",
      "mobileapps               1050\n",
      "hotels                    880\n",
      "subscriptions             718\n",
      "online_subscriptions      666\n",
      "airline                   607\n",
      "furniture                 249\n",
      "food_delivery             192\n",
      "gym                       168\n",
      "cable/phone                58\n",
      "Name: merchantCategoryCode, dtype: int64\n",
      "\n",
      "=== transactionType object value counts: ===\n",
      "PURCHASE                47472\n",
      "REVERSAL                 1245\n",
      "ADDRESS_VERIFICATION     1241\n",
      "                           42\n",
      "Name: transactionType, dtype: int64\n",
      "\n",
      "=== merchantCity object value counts: ===\n",
      "    50000\n",
      "Name: merchantCity, dtype: int64\n",
      "\n",
      "=== merchantState object value counts: ===\n",
      "    50000\n",
      "Name: merchantState, dtype: int64\n",
      "\n"
     ]
    }
   ],
   "source": [
    "colsMask = ['acqCountry','merchantCountryCode','posEntryMode',\n",
    "           'posEntryMode','posConditionCode','merchantCategoryCode',\n",
    "           'transactionType','merchantCity','merchantState']\n",
    "types = df[colsMask].dtypes\n",
    "for colStr,obj in (types.iteritems()):\n",
    "    if (obj==bool or obj=='object'):\n",
    "        print(\"=== {} object value counts: ===\".format(colStr))\n",
    "        print(df[colStr].value_counts())\n",
    "        print(\"\")"
   ]
  },
  {
   "cell_type": "markdown",
   "metadata": {
    "ein.tags": "worksheet-0",
    "slideshow": {
     "slide_type": "-"
    }
   },
   "source": [
    "## Question 2: Plot\n",
    "**2a. Plot a histogram of the processed amounts of each transaction, the transactionAmount column.**\n",
    "\n",
    "**2b. Report any structure you find and any hypotheses you have about that structure.**"
   ]
  },
  {
   "cell_type": "markdown",
   "metadata": {
    "ein.tags": "worksheet-0",
    "slideshow": {
     "slide_type": "-"
    }
   },
   "source": [
    "Below is a histogram of transaction amounts with the density turned on, normalizing the values.\n",
    "\n",
    "A structure I observed is that fradulent transactions appear to have a peak at around 90 to 100 USD that resembles almost a poisson distribution, while normal transactions distribution are exponentially declining from x = 0"
   ]
  },
  {
   "cell_type": "code",
   "execution_count": 7,
   "metadata": {
    "autoscroll": false,
    "ein.hycell": false,
    "ein.tags": "worksheet-0",
    "jupyter": {
     "outputs_hidden": false
    },
    "slideshow": {
     "slide_type": "-"
    }
   },
   "outputs": [
    {
     "data": {
      "image/png": "[encoded data removed]",
      "text/plain": [
       "<Figure size 432x288 with 1 Axes>"
      ]
     },
     "metadata": {
      "needs_background": "light"
     },
     "output_type": "display_data"
    }
   ],
   "source": [
    "plt.hist(df[df.isFraud==False].transactionAmount,bins=39,label='not Fraud',density=True)\n",
    "plt.hist(df[df.isFraud==True].transactionAmount,bins=39,label='isFraud',density=True)\n",
    "plt.title(\"Distribution of Transaction Amount vs Num of Samples\")\n",
    "plt.ylabel(\"num of samples\")\n",
    "plt.xlabel(\"transaction amount\")\n",
    "plt.legend()\n",
    "plt.show()"
   ]
  },
  {
   "cell_type": "markdown",
   "metadata": {},
   "source": [
    "I was then curious what the transactions were like based on time of day, to see if there were any patterns in time based on when customers were making transactions. Based on the histogram I did not make any observations on customer transactions based on time of day"
   ]
  },
  {
   "cell_type": "code",
   "execution_count": 8,
   "metadata": {},
   "outputs": [
    {
     "data": {
      "image/png": "[encoded data removed]",
      "text/plain": [
       "<Figure size 432x288 with 1 Axes>"
      ]
     },
     "metadata": {
      "needs_background": "light"
     },
     "output_type": "display_data"
    }
   ],
   "source": [
    "plt.hist(df.transactionDateTime.dt.hour,bins=24)\n",
    "plt.title(\"Distribution of transactions based on time of day\")\n",
    "plt.xlabel(\"Time of day in hours\")\n",
    "plt.ylabel(\"Time of day in minutes\")\n",
    "plt.show()"
   ]
  },
  {
   "cell_type": "markdown",
   "metadata": {},
   "source": [
    "After observing that there were no missing values in merchant category code, I was then curious what the most common transactions were, and what the next N most common were. The most common transactions are online retail, fast food, and food. I'll be looking to encode these variables in my models."
   ]
  },
  {
   "cell_type": "code",
   "execution_count": 9,
   "metadata": {},
   "outputs": [
    {
     "data": {
      "image/png": "[encoded data removed]",
      "text/plain": [
       "<Figure size 432x288 with 1 Axes>"
      ]
     },
     "metadata": {
      "needs_background": "light"
     },
     "output_type": "display_data"
    }
   ],
   "source": [
    "def plotCategory(colStr):\n",
    "    labels, vals = [],[]\n",
    "    for row in df[colStr].value_counts().iteritems():\n",
    "        labels.append(row[0])\n",
    "        vals.append(row[1])\n",
    "    dfBar = pd.DataFrame({'labels':labels, '# Items':vals})\n",
    "    ax = dfBar.plot.bar(x='labels', y='# Items', rot=90)\n",
    "plotCategory('merchantCategoryCode')"
   ]
  },
  {
   "cell_type": "markdown",
   "metadata": {},
   "source": [
    "Next of interest was the transaction type. The most common transactions were purchases, with some reversals and address verifications, and finally missing values."
   ]
  },
  {
   "cell_type": "code",
   "execution_count": 10,
   "metadata": {},
   "outputs": [
    {
     "data": {
      "image/png": "[encoded data removed]",
      "text/plain": [
       "<Figure size 432x288 with 1 Axes>"
      ]
     },
     "metadata": {
      "needs_background": "light"
     },
     "output_type": "display_data"
    }
   ],
   "source": [
    "plotCategory('transactionType')"
   ]
  },
  {
   "cell_type": "markdown",
   "metadata": {},
   "source": [
    "The number of transactions made by country were dominantly made in the United States."
   ]
  },
  {
   "cell_type": "code",
   "execution_count": 11,
   "metadata": {},
   "outputs": [
    {
     "data": {
      "image/png": "[encoded data removed]",
      "text/plain": [
       "<Figure size 432x288 with 1 Axes>"
      ]
     },
     "metadata": {
      "needs_background": "light"
     },
     "output_type": "display_data"
    }
   ],
   "source": [
    "plotCategory('acqCountry')"
   ]
  },
  {
   "cell_type": "markdown",
   "metadata": {},
   "source": [
    "In the dataset subselected, there are a total of 367 accounts, each on average having 136 transactions."
   ]
  },
  {
   "cell_type": "code",
   "execution_count": 12,
   "metadata": {},
   "outputs": [
    {
     "name": "stdout",
     "output_type": "stream",
     "text": [
      "number of accounts 367\n",
      "number of tx by acct 136.23978201634878\n"
     ]
    }
   ],
   "source": [
    "accts, counts = np.unique(df['accountNumber'],return_counts=True)\n",
    "print(\"number of accounts {}\".format(len(accts)))\n",
    "print(\"number of tx by acct {}\".format(np.mean(counts)))"
   ]
  },
  {
   "cell_type": "markdown",
   "metadata": {
    "ein.tags": "worksheet-0",
    "slideshow": {
     "slide_type": "-"
    }
   },
   "source": [
    "## Question 3: Data Wrangling - Duplicate Transactions\n",
    "You will notice a number of what look like duplicated transactions in the data set. One type of duplicated transaction is a reversed transaction, where a purchase is followed by a reversal. Another example is a multi-swipe, where a vendor accidentally charges a customer's card multiple times within a short time span."
   ]
  },
  {
   "cell_type": "markdown",
   "metadata": {
    "ein.tags": "worksheet-0",
    "slideshow": {
     "slide_type": "-"
    }
   },
   "source": [
    "**3a. Can you programmatically identify reversed and multi-swipe transactions?**\n",
    "\n",
    "**DISCLAIMER: Unfortunately due to time constraints, I was unable to finish my analysis of reversed and multiswip transactions. Below is how I would've approached the problem, and the remainder of my time was spent on modeling.**\n",
    "\n",
    "\n",
    "\n",
    "There are four different types of transaction types:\n",
    "address verification, purchase, and reversal. \n",
    "\n",
    "In my script I've programtically detected multi-swipe transactions by first identifying a single user. These methods can be located in the python file `scripts/utils.py`\n",
    "\n",
    "After identifying the user, I then iterate through their interactions with merchants. For each transaction with merchants I first subselect transactions that have the same merchant name, and transaction amount.\n",
    "\n",
    "After flagging this I look at the time difference between them. Sometimes, these same transaction amounts and merchant names can be identified as subscription transactions. For now. I simply set the difference between transactions to 2 minutes. If there are two transactions from the same merchant for the same dollar amount 2 minutes, it is flagged as a multi-swipe\n",
    "\n",
    "Reversed transactions I identified by simply setting a mask and determining if a transaction type was a reversal, matching that transaction amount to another transaction."
   ]
  },
  {
   "cell_type": "code",
   "execution_count": 13,
   "metadata": {
    "autoscroll": false,
    "ein.hycell": false,
    "ein.tags": "worksheet-0",
    "jupyter": {
     "outputs_hidden": false
    },
    "slideshow": {
     "slide_type": "-"
    }
   },
   "outputs": [],
   "source": [
    "import scripts.utils as utils\n",
    "imp.reload(utils)\n",
    "\n",
    "tempdf = df.head(10000)\n",
    "\n",
    "# First start with one account, look at account with highest number of txs\n",
    "accts, counts = np.unique(df['accountNumber'],return_counts=True)\n",
    "\n",
    "# Subselect the account with highest activity, and sort by transaction\n",
    "acctIdMostTransactions = accts[np.argmax(counts)]\n",
    "\n",
    "accountTx = tempdf[tempdf.accountNumber==acctIdMostTransactions]\n",
    "results = utils.predictDuplicateByUser(tempdf,accountTx)"
   ]
  },
  {
   "cell_type": "markdown",
   "metadata": {
    "ein.tags": "worksheet-0",
    "slideshow": {
     "slide_type": "-"
    }
   },
   "source": [
    "**3b. What total number of transactions and total dollar amount do you estimate for the reversed transactions? For the multi-swipe transactions? (please consider the first transaction to be \"normal\" and exclude it from the number of transaction and dollar amount counts)**"
   ]
  },
  {
   "cell_type": "markdown",
   "metadata": {
    "ein.tags": "worksheet-0",
    "slideshow": {
     "slide_type": "-"
    }
   },
   "source": [
    "**3c. Did you find anything interesting about either kind of transaction?**"
   ]
  },
  {
   "cell_type": "markdown",
   "metadata": {
    "ein.tags": "worksheet-0",
    "slideshow": {
     "slide_type": "-"
    }
   },
   "source": [
    "## Question 4: Model\n",
    "Fraud is a problem for any bank. Fraud can take many forms, whether it is someone stealing a single credit card, to large batches of stolen credit card numbers being used on the web, or even a mass compromise of credit card numbers stolen from a merchant via tools like credit card skimming devices.\n",
    "\n",
    "**4a. Each of the transactions in the dataset has a field called isFraud. Please build a predictive model to determine whether a given transaction will be fraudulent or not. Use as much of the data as you like (or all of it).**"
   ]
  },
  {
   "cell_type": "markdown",
   "metadata": {},
   "source": [
    "\n",
    "### Introduction\n",
    "For the predictive model, I've decided to use only the first 50,000 transactions due to time constraints.\n",
    "\n",
    "In the first part of modeling I first show some key insights about the dataset and variable transformations I performed.\n",
    "\n",
    "I then train two models: a baseline model and a CNN model with features extracted from the dataset.\n",
    "\n",
    "After training the models. I run the models on a test dataset it has never seen before, and evaluate the precision and accuracy of the models.\n",
    "\n",
    "To summarize, I was able to successfully develop a model that can predcit better than chance if a transaction is fradulent.\n",
    "\n",
    "### Unbalanced Dataset\n",
    "The first issue to address is the unbalanced number of labels. This will result in any accuracy metric being dominated by non fradulent cases. In this dataset, only 1% of the dataset consists of fradulent transactions. In my next steps I preprocess the dataset by oversampling fradulent transactions."
   ]
  },
  {
   "cell_type": "code",
   "execution_count": 15,
   "metadata": {},
   "outputs": [
    {
     "data": {
      "text/plain": [
       "False    49317\n",
       "True       683\n",
       "Name: isFraud, dtype: int64"
      ]
     },
     "execution_count": 15,
     "metadata": {},
     "output_type": "execute_result"
    }
   ],
   "source": [
    "df.isFraud.value_counts()"
   ]
  },
  {
   "cell_type": "code",
   "execution_count": 16,
   "metadata": {},
   "outputs": [
    {
     "data": {
      "image/png": "[encoded data removed]",
      "text/plain": [
       "<Figure size 432x288 with 1 Axes>"
      ]
     },
     "metadata": {
      "needs_background": "light"
     },
     "output_type": "display_data"
    }
   ],
   "source": [
    "plotCategory('isFraud')"
   ]
  },
  {
   "cell_type": "markdown",
   "metadata": {},
   "source": [
    "In order to resolve this issue, I have oversampled the number of fradulent cases AFTER splitting the data set into train and test. The results of this balancing are shown below\n"
   ]
  },
  {
   "cell_type": "code",
   "execution_count": 18,
   "metadata": {
    "autoscroll": false,
    "ein.hycell": false,
    "ein.tags": "worksheet-0",
    "jupyter": {
     "outputs_hidden": false
    },
    "slideshow": {
     "slide_type": "-"
    }
   },
   "outputs": [],
   "source": [
    "import torch\n",
    "import scripts.Dataset as dataset\n",
    "from sklearn.model_selection import train_test_split\n",
    "\n",
    "\"\"\"\n",
    "Data preloading\n",
    "\"\"\"\n",
    "import scripts.utils as utils\n",
    "imp.reload(utils)\n",
    "\n",
    "# this iterates through each\n",
    "allUserTxsDf = utils.calculateUser(df)\n",
    "allUserTxsDf = utils.encodeColumn(allUserTxsDf)\n",
    "allUserTxsDf = utils.encodeColumn(allUserTxsDf,col='merchantCategoryCode')\n",
    "\n",
    "# Create unbalanced test and train set\n",
    "train_df_un,test_df_un = train_test_split(allUserTxsDf,test_size=0.25, \n",
    "                                          random_state=10)\n",
    "# Create train and test dataframes\n",
    "train_df = utils.upsampleMinority(train_df_un)\n",
    "test_df = utils.upsampleMinority(test_df_un)\n",
    "\n",
    "trainDataset = dataset.DfDataset(train_df)\n",
    "testDataset = dataset.DfDataset(test_df)\n",
    "\n",
    "train_dataset_loader = torch.utils.data.DataLoader(dataset=trainDataset,\n",
    "                                             batch_size=1,\n",
    "                                             shuffle=False)\n",
    "test_dataset_loader = torch.utils.data.DataLoader(dataset=testDataset,\n",
    "                                             batch_size=1,\n",
    "                                             shuffle=False)\n",
    "\n"
   ]
  },
  {
   "cell_type": "markdown",
   "metadata": {},
   "source": [
    "Below are printed out distributions of the train and test before and after balancing"
   ]
  },
  {
   "cell_type": "code",
   "execution_count": 19,
   "metadata": {
    "autoscroll": false,
    "ein.hycell": false,
    "ein.tags": "worksheet-0",
    "jupyter": {
     "outputs_hidden": false
    },
    "slideshow": {
     "slide_type": "-"
    }
   },
   "outputs": [
    {
     "name": "stdout",
     "output_type": "stream",
     "text": [
      "=== Training set before balancing ===\n",
      "False    36983\n",
      "True       517\n",
      "Name: isFraud, dtype: int64\n",
      "=== Training set after balancing ===\n",
      "True     36983\n",
      "False    36983\n",
      "Name: isFraud, dtype: int64\n",
      " \n",
      "=== Testing set before balancing ===\n",
      "False    12334\n",
      "True       166\n",
      "Name: isFraud, dtype: int64\n",
      "=== Testing set after balancing ===\n",
      "True     12334\n",
      "False    12334\n",
      "Name: isFraud, dtype: int64\n"
     ]
    }
   ],
   "source": [
    "imp.reload(dataset)\n",
    "print(\"=== Training set before balancing ===\")\n",
    "print(train_df_un.isFraud.value_counts())\n",
    "print(\"=== Training set after balancing ===\")\n",
    "print(train_df.isFraud.value_counts())\n",
    "print(\" \")\n",
    "print(\"=== Testing set before balancing ===\")\n",
    "print(test_df_un.isFraud.value_counts())\n",
    "print(\"=== Testing set after balancing ===\")\n",
    "print(test_df.isFraud.value_counts())"
   ]
  },
  {
   "cell_type": "markdown",
   "metadata": {},
   "source": [
    "\n",
    "**Extracted features:**\n",
    "\n",
    "In regards to the dataset I've also added two features ot the dataset.\n",
    "For each user I've created the following features:\n",
    "- the time difference between transactions by hour\n",
    "- the mean amount, std dev, and median they spend for a time of day(0-9 AM, 9AM-1PM, 1PM-5PM, 5PM-12AM)\n",
    "- a one hot encoded variable representing what time of day the transaction was made\n",
    "- a one hot encoded representation of merchant Category Code\n",
    "\n",
    "Then transaction amounts are normalized by user rowwise in order to bound the values between 0 and 1. Below is what a training row looks like. The transaction date time is not passed to the model."
   ]
  },
  {
   "cell_type": "code",
   "execution_count": 20,
   "metadata": {},
   "outputs": [
    {
     "data": {
      "text/plain": [
       "transactionAmount                                       0.794772\n",
       "transactionDateTime                          2016-08-13 14:27:32\n",
       "isFraud                                                    False\n",
       "hourDelta                                                      0\n",
       "transactionAmountMedian                                 0.794772\n",
       "transactionAmountMean                                   0.794772\n",
       "transactionAmountStd                                           0\n",
       "0_encodedTime                                                  1\n",
       "1_encodedTime                                                  0\n",
       "2_encodedTime                                                  0\n",
       "3_encodedTime                                                  0\n",
       "6_encodedTime                                                  0\n",
       "airline_merchantCategoryCode                                   1\n",
       "auto_merchantCategoryCode                                      0\n",
       "cable/phone_merchantCategoryCode                               0\n",
       "entertainment_merchantCategoryCode                             0\n",
       "fastfood_merchantCategoryCode                                  0\n",
       "food_merchantCategoryCode                                      0\n",
       "food_delivery_merchantCategoryCode                             0\n",
       "fuel_merchantCategoryCode                                      0\n",
       "furniture_merchantCategoryCode                                 0\n",
       "gym_merchantCategoryCode                                       0\n",
       "health_merchantCategoryCode                                    0\n",
       "hotels_merchantCategoryCode                                    0\n",
       "mobileapps_merchantCategoryCode                                0\n",
       "online_gifts_merchantCategoryCode                              0\n",
       "online_retail_merchantCategoryCode                             0\n",
       "online_subscriptions_merchantCategoryCode                      0\n",
       "personal care_merchantCategoryCode                             0\n",
       "rideshare_merchantCategoryCode                                 0\n",
       "subscriptions_merchantCategoryCode                             0\n",
       "Name: 0, dtype: object"
      ]
     },
     "execution_count": 20,
     "metadata": {},
     "output_type": "execute_result"
    }
   ],
   "source": [
    "allUserTxsDf.iloc[0]"
   ]
  },
  {
   "cell_type": "markdown",
   "metadata": {
    "autoscroll": false,
    "ein.hycell": false,
    "ein.tags": "worksheet-0",
    "jupyter": {
     "outputs_hidden": false
    },
    "slideshow": {
     "slide_type": "-"
    }
   },
   "source": [
    "## Training the model\n",
    "In this section I train two models: a CNN and logistic regression model. The logistic regression model is implemented using sklearn, and the CNN is implemented using pytorch.\n",
    "\n",
    "The logisiic regression model serves as a baseline for my CNN model to outpreform\n",
    "\n",
    "### Logsitic Regression baseline model\n",
    "Below is a baseline logistic regression model. One thing to observe is that the logistic regression model has performed better than chance, indicating that our engineered features are working"
   ]
  },
  {
   "cell_type": "code",
   "execution_count": 22,
   "metadata": {
    "autoscroll": false,
    "ein.hycell": false,
    "ein.tags": "worksheet-0",
    "jupyter": {
     "outputs_hidden": false
    },
    "slideshow": {
     "slide_type": "-"
    }
   },
   "outputs": [
    {
     "name": "stdout",
     "output_type": "stream",
     "text": [
      "Baseline logistic regression accuracy on training set: 0.5940026498661547\n",
      "Baseline logistic regression Accuracy on testing set: 0.6152505269985407\n"
     ]
    }
   ],
   "source": [
    "from sklearn.metrics import precision_recall_curve,auc,\\\n",
    "    confusion_matrix,precision_score,accuracy_score, roc_curve\n",
    "cols = ['transactionAmount', 'hourDelta',\n",
    "         'transactionAmountMedian', 'transactionAmountMean',\n",
    "         'transactionAmountStd', '0_encodedTime', '1_encodedTime',\n",
    "         '2_encodedTime', '3_encodedTime', '6_encodedTime',\n",
    "         'auto_merchantCategoryCode', 'entertainment_merchantCategoryCode',\n",
    "         'fastfood_merchantCategoryCode', 'food_merchantCategoryCode',\n",
    "         'food_delivery_merchantCategoryCode', 'fuel_merchantCategoryCode',\n",
    "         'gym_merchantCategoryCode', 'health_merchantCategoryCode',\n",
    "         'mobileapps_merchantCategoryCode', 'online_retail_merchantCategoryCode',\n",
    "         'personal care_merchantCategoryCode', 'rideshare_merchantCategoryCode']\n",
    "trainX = train_df[cols]\n",
    "trainy = train_df['isFraud']\n",
    "\n",
    "from sklearn.linear_model import LogisticRegression\n",
    "clf = LogisticRegression(random_state=0).fit(trainX, trainy)\n",
    "yHat = clf.predict(trainX)\n",
    "yHatProba = clf.predict_proba(trainX)\n",
    "print(\"Baseline logistic regression accuracy on training set: {}\".format(clf.score(trainX, trainy)))\n",
    "\n",
    "testX = test_df[cols]\n",
    "testy = test_df['isFraud']\n",
    "logreg_yHat = clf.predict(testX)\n",
    "logreg_yHatProba = clf.predict_proba(testX)\n",
    "\n",
    "lrprecision, lrrecall,_ = precision_recall_curve(testy, logreg_yHatProba[:,1])\n",
    "lrfpr,lrtpr, _ = roc_curve(testy, logreg_yHatProba[:,1])\n",
    "print(\"Baseline logistic regression Accuracy on testing set: {}\".format(clf.score(testX,\n",
    "                                                      testy)))"
   ]
  },
  {
   "cell_type": "markdown",
   "metadata": {},
   "source": [
    "### CNN Model\n",
    "\n",
    "My CNN model implements four layers,\n",
    "- convolutional layer outputting 32 channels and kernel size of 4x4 with relu activation\n",
    "- convolutional layer outputting 64 channels and kernel size of 2x2 with relu activation\n",
    "- fully connected layer from 64 to 128 with relu activation\n",
    "- fully connected layer from 128 to 1 with sigmoid activation\n",
    "\n",
    "The specifics of this model can be found in `scripts/models.py` with the pytorch dataloader saved in `scripts/datasets.py`\n",
    "\n",
    "The motivation for using a CNN on a non spatially import dataset is inspired from Chouiekh and Haj's paper [\"ConvNets for Fraud Detection analysis\"](https://www.sciencedirect.com/science/article/pii/S1877050918301182). \n",
    "\n",
    "Replicating the methods from this paper, each transaction is turned into a \"synthetic image\" representing inforamtion about the user. The CNN is then used to capture high dimensional feature spaces representing a fradulent transaction."
   ]
  },
  {
   "cell_type": "code",
   "execution_count": 23,
   "metadata": {},
   "outputs": [
    {
     "name": "stdout",
     "output_type": "stream",
     "text": [
      "i 0: 0.6884455680847168\n",
      "i 10000: 0.0007933544111438096\n",
      "i 20000: 2.0861648408754263e-06\n",
      "i 30000: 0.0\n",
      "i 40000: 3.449523687362671\n",
      "i 50000: 0.003022166434675455\n",
      "i 60000: 8.821526535029989e-06\n",
      "i 70000: 0.0\n"
     ]
    }
   ],
   "source": [
    "import scripts.models as m\n",
    "import torch\n",
    "import numpy as np\n",
    "import torch.nn.functional as F\n",
    "torch.manual_seed(0)\n",
    "np.random.seed(0)\n",
    "imp.reload(m)\n",
    "cnnModel = m.Net()\n",
    "optimizer = torch.optim.Adam(cnnModel.parameters(), lr=0.00001)\n",
    "costs = []\n",
    "for epoch in range(1):\n",
    "    for i, (data, labels) in enumerate(train_dataset_loader):\n",
    "        optimizer.zero_grad()\n",
    "        output = cnnModel(data)\n",
    "        loss = F.binary_cross_entropy(output, labels)\n",
    "        loss.backward()\n",
    "        optimizer.step()\n",
    "        if(i%10000 == 0): print(\"i {}: {}\".format(i,loss))\n",
    "        costs.append(loss.item())\n",
    "        pass\n",
    "    pass"
   ]
  },
  {
   "cell_type": "markdown",
   "metadata": {
    "ein.tags": "worksheet-0",
    "slideshow": {
     "slide_type": "-"
    }
   },
   "source": [
    "**4b. Provide an estimate of performance using an appropriate sample, and show your work.**\n"
   ]
  },
  {
   "cell_type": "markdown",
   "metadata": {},
   "source": [
    "For evaluating the performance of the model I've decided to use precision recall, ROC curve, accuracy, and precision to determine the peformance of my model.\n",
    "\n",
    "Below are figures of the accuracy, PR cruves, ROC curve, and AUC."
   ]
  },
  {
   "cell_type": "code",
   "execution_count": 24,
   "metadata": {
    "autoscroll": false,
    "ein.hycell": false,
    "ein.tags": "worksheet-0",
    "jupyter": {
     "outputs_hidden": false
    },
    "slideshow": {
     "slide_type": "-"
    }
   },
   "outputs": [
    {
     "name": "stdout",
     "output_type": "stream",
     "text": [
      "mean cross entropy on test dataset: 2.7041145929583066\n"
     ]
    }
   ],
   "source": [
    "result = []\n",
    "yHats =[]\n",
    "gts = []\n",
    "\n",
    "for i, (data, labels) in enumerate(test_dataset_loader):\n",
    "    #data,labels = data.cuda(),labels.cuda()\n",
    "    optimizer.zero_grad()\n",
    "    output = cnnModel(data)\n",
    "    yHats.append(output[0].detach())\n",
    "    gts.append(labels[0].detach())    \n",
    "    loss = F.binary_cross_entropy(output, labels)\n",
    "    loss.backward()\n",
    "    optimizer.step()\n",
    "    result.append(loss.item())\n",
    "\n",
    "print(\"mean cross entropy on test dataset: {}\".format(np.mean(result)))"
   ]
  },
  {
   "cell_type": "markdown",
   "metadata": {
    "autoscroll": false,
    "ein.hycell": false,
    "ein.tags": "worksheet-0",
    "jupyter": {
     "outputs_hidden": false
    },
    "slideshow": {
     "slide_type": "-"
    }
   },
   "source": [
    "**Models analysis and comparisons**"
   ]
  },
  {
   "cell_type": "code",
   "execution_count": 25,
   "metadata": {
    "autoscroll": false,
    "ein.hycell": false,
    "ein.tags": "worksheet-0",
    "jupyter": {
     "outputs_hidden": false
    },
    "slideshow": {
     "slide_type": "-"
    }
   },
   "outputs": [
    {
     "data": {
      "image/png": "[encoded data removed]",
      "text/plain": [
       "<Figure size 432x288 with 1 Axes>"
      ]
     },
     "metadata": {
      "needs_background": "light"
     },
     "output_type": "display_data"
    },
    {
     "data": {
      "image/png": "[encoded data removed]",
      "text/plain": [
       "<Figure size 432x288 with 1 Axes>"
      ]
     },
     "metadata": {
      "needs_background": "light"
     },
     "output_type": "display_data"
    }
   ],
   "source": [
    "yHats = (np.array(yHats))\n",
    "gts = (np.array(gts))\n",
    "precision, recall, thresholds = precision_recall_curve(gts, yHats)\n",
    "fpr,tpr, _ = roc_curve(gts, yHats)\n",
    "\n",
    "\n",
    "plt.plot(fpr,tpr,label='cnn model')\n",
    "plt.plot(lrfpr,lrtpr,label='baseline model')\n",
    "plt.title(\"ROC Curve\")\n",
    "plt.xlim(0,1)\n",
    "plt.ylim(0,1)\n",
    "plt.ylabel(\"True positive rate\")\n",
    "plt.xlabel(\"False positive rate\")\n",
    "plt.legend()\n",
    "plt.show()\n",
    "\n",
    "plt.plot(recall,precision,label='cnn model')\n",
    "plt.plot(lrrecall,lrprecision,label='baseline model')\n",
    "plt.title(\"precision recall curve of samples\")\n",
    "plt.xlim(0,1)\n",
    "plt.ylim(0,1)\n",
    "plt.ylabel(\"Precision\")\n",
    "plt.xlabel(\"Recall\")\n",
    "plt.legend()\n",
    "plt.show()"
   ]
  },
  {
   "cell_type": "markdown",
   "metadata": {},
   "source": [
    "**CNN Model Performance**"
   ]
  },
  {
   "cell_type": "code",
   "execution_count": 26,
   "metadata": {
    "autoscroll": false,
    "ein.hycell": false,
    "ein.tags": "worksheet-0",
    "jupyter": {
     "outputs_hidden": false
    },
    "slideshow": {
     "slide_type": "-"
    }
   },
   "outputs": [
    {
     "name": "stdout",
     "output_type": "stream",
     "text": [
      "Confusion Matrix:\n",
      "[[ 7587  4747]\n",
      " [  634 11700]]\n",
      "auc: 0.7260995733080732\n",
      "acc : 0.7818631425328361\n",
      "prec: 0.71137593482094\n"
     ]
    }
   ],
   "source": [
    "print(\"Confusion Matrix:\")\n",
    "print(confusion_matrix(gts,yHats>0.5))\n",
    "print(\"auc: {}\".format(auc(fpr,tpr)))\n",
    "print(\"acc : {}\".format(accuracy_score(gts,yHats>0.5)))\n",
    "print(\"prec: {}\".format(precision_score(gts,yHats>0.5)))"
   ]
  },
  {
   "cell_type": "markdown",
   "metadata": {},
   "source": [
    "**Baseline Model Performance**"
   ]
  },
  {
   "cell_type": "code",
   "execution_count": 27,
   "metadata": {
    "autoscroll": false,
    "ein.hycell": false,
    "ein.tags": "worksheet-0",
    "jupyter": {
     "outputs_hidden": false
    },
    "slideshow": {
     "slide_type": "-"
    }
   },
   "outputs": [
    {
     "name": "stdout",
     "output_type": "stream",
     "text": [
      "Confusion Matrix:\n",
      "[[8827 3507]\n",
      " [5984 6350]]\n",
      "acc : 0.6152505269985407\n",
      "prec: 0.644212234959927\n"
     ]
    }
   ],
   "source": [
    "#precision_score(logreg_yHat,testy)\n",
    "print(\"Confusion Matrix:\")\n",
    "print(confusion_matrix(gts,logreg_yHat>0.5))\n",
    "print(\"acc : {}\".format(accuracy_score(gts,logreg_yHat>0.5)))\n",
    "print(\"prec: {}\".format(precision_score(gts,logreg_yHat>0.5)))"
   ]
  },
  {
   "cell_type": "markdown",
   "metadata": {},
   "source": [
    "\n",
    "From these results the CNN model was able to perform the baseline model, and demonstrates the predictive capability of a CNN model in determining if a transaction is fradulent. \n",
    "\n",
    "With the baseline model only achieving 61% accuracy, and this model achieving 72.3%, precision is also performed from the baseline model with the baseline only achieving 64.4% and the CNN achieving 71.1%.\n"
   ]
  },
  {
   "cell_type": "markdown",
   "metadata": {},
   "source": [
    "\n",
    "**4c. Please explain your methodology (modeling algorithm/method used and why, what features/data you found useful, what questions you have, and what you would do next with more time)**\n"
   ]
  },
  {
   "cell_type": "markdown",
   "metadata": {},
   "source": [
    "**Main algorithm**\n",
    "\n",
    "The main motivation for using a convolutional neural network was to see if a kernel would be able to identify any relationship between the amount a person spends during the time of day, and compare that to the amount they have spent.\n",
    "\n",
    "The motivation behind htis was Based on Chouiekh and Haj's paper [\"ConvNets for Fraud Detection analysis\"](https://www.sciencedirect.com/science/article/pii/S1877050918301182), who encoded customer data into a artificial image. While here they used records from their mobile communications, it inspired me to take advantage of the information based on when and where customers made transactions.\n",
    "\n",
    "The CNN model is four layers in total: two layer convolutional network, with two fully connected layers to output one variable.\n",
    "\n",
    "\n",
    "I wanted to spend as little time feature engineering, so while this data may not be spatially valuable, a CNN would be able to capture higher dimension spaces that are useful to detect fradulent transactions.\n",
    "\n",
    "All of my scripts, methods, and pytorch models can be found inside my `scripts/` directory.\n",
    "\n",
    "\n",
    "**Method**\n",
    "\n",
    "The first step in my data process was to balance the dataset, and then encode the new features: how much a customer spends during time of day by mean, std dev, and median, what time of the day they spent their money, which category they spent it in, and how much time elapsed since their last transaction.\n",
    "\n",
    "These features were then transformed into a ariticial 5x5 image with each 'pixel' representing a feature of the customer.\n",
    "\n",
    "I then trained a logistic regression model on these encoded features as a baseline to compare against my CNN model.\n",
    "\n",
    "I found that the features most useful to describe a customers profile was their transaction amount, where they spent their money, and the times in which they made these transactions.\n",
    "\n",
    "After this I oversampled fradulent data, in order to balance the dataset and be able to determine the performance of the model without one class dominating another.\n",
    "\n",
    "The model was only run on one epoch across the entire training and test dataset.\n",
    "\n",
    "Then the model was evaluated on a test dataset which it has never seen before, and I observed that the model was able to classify fradulent transactions.\n",
    "\n",
    "\n",
    "\n",
    "**Questions**\n",
    "\n",
    "Questions I have are specifically what the POS codes mean for the dataset, and what specific variables mean. I'm also curious how these fradulent transactions determined, the motivation being to determine if there were any transactions which are actually fradulent, which weren't marked as in this dataset.\n",
    "\n",
    "Next I'd want to know what the costs are associated with a false positive or a false negative, in order to be able to determine the best thresholds for the model to perform. For example, does it cost capital one more to falsely classify a transaction as fradulent? or does it cost more for capital one to falsely classify a transaction as non fradulent?\n",
    "\n",
    "With more time I would've implemented a model that would train across the entire dataset, and also implement kfold training in order to make sure my model is not overfitting or suffering from any bias variance trade off.\n",
    "\n",
    "**Conclusion**\n",
    "\n",
    "In conclusion, I found that a CNN model with engineered features based on their spending habits was able to determine fradulent accounts with a average precision of 71% and accuracy of 72.3%. \n",
    "\n",
    "Next steps would be to impelment a Kfold training scheme to determine the performance of the model across the dataset, and tuning parameters to determine if there are any improvements.\n",
    "\n",
    "Moving forward I'd like to learn more about how these fradulent transacftions were aggregated, and the context behind these transactions, specifically so I can work with Captial One to determine the best thresholds for this model(does it cost more to have a false positive or false negative?)\n",
    "\n",
    "\n",
    "Thank you for your time and I look forward to hearing back."
   ]
  }
 ],
 "metadata": {
  "kernelspec": {
   "display_name": "Python 3",
   "language": "python",
   "name": "python3"
  },
  "language_info": {
   "codemirror_mode": {
    "name": "ipython",
    "version": 3
   },
   "file_extension": ".py",
   "mimetype": "text/x-python",
   "name": "python",
   "nbconvert_exporter": "python",
   "pygments_lexer": "ipython3",
   "version": "3.7.2"
  },
  "name": "analysis.ipynb"
 },
 "nbformat": 4,
 "nbformat_minor": 4
}
