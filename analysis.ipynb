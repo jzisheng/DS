{
 "cells": [
  {
   "cell_type": "markdown",
   "metadata": {
    "ein.tags": "worksheet-0",
    "slideshow": {
     "slide_type": "-"
    }
   },
   "source": [
    "At Capital One, you'll almost always be working with a diverse team, often including business analysts, engineers, product managers, and senior leaders. The ability to not just complete data science work, but also to explain and present your work is important.\n",
    "With that in mind, please deliver your answers as if you were handing off work to another data scientist joining your team. Tying together your intent, code, analysis and results is the goal.\n",
    "The following artifacts are valued:\n",
    "explanations of your intent, methods, conclusions and any assumptions\n",
    "clear, documented, and well-structured code\n",
    "instructions for running your code\n",
    "methods you attempted that didn't work\n",
    "ideas you didn't have time to complete but would have done with more time\n",
    "a thorough write up with any pertinent visualizations\n",
    "We ask that any code written by others is sourced/cited appropriately. We are excited to review your work and your interpretation of the data."
   ]
  },
  {
   "cell_type": "markdown",
   "metadata": {
    "ein.tags": "worksheet-0",
    "slideshow": {
     "slide_type": "-"
    }
   },
   "source": [
    "Data Science Challenge: Card Transactions!\n",
    "\n",
    "This coding and analysis challenge is designed to test your skill and intuition analyzing real[-ish] world data. For the challenge, we will use credit card transactions data. Note that this dataset loosely resembles real transactional data from Capital One credit card customers, but the entities and relations within are purely fictional. No persons, places, or things lost their identity in the making of this dataset.\n",
    "Required Questions: Please answer completely all four required questions.\n",
    "\n",
    "## Question 1: Load\n",
    "- Programmatically download and load into your favorite analytical tool the transactions data. This data, which is in line-delimited JSON format, can be found here\n",
    "- Please describe the structure of the data. Number of records and fields in each record?\n",
    "- Please provide some additional basic summary statistics for each field. Be sure to include a count of null, minimum, maximum, and unique values where appropriate."
   ]
  },
  {
   "cell_type": "markdown",
   "metadata": {
    "ein.tags": "worksheet-0",
    "slideshow": {
     "slide_type": "-"
    }
   },
   "source": [
    "1(a) Programmatically download and load into your favorite analytical tool the transactions data. This data, which is in line-delimited JSON format, can be found here"
   ]
  },
  {
   "cell_type": "code",
   "execution_count": 13,
   "metadata": {
    "autoscroll": false,
    "collapsed": false,
    "ein.hycell": false,
    "ein.tags": "worksheet-0",
    "jupyter": {
     "outputs_hidden": false
    },
    "slideshow": {
     "slide_type": "-"
    }
   },
   "outputs": [],
   "source": [
    "import numpy as np\n",
    "import matplotlib.pyplot as plt\n",
    "import pandas as pd\n",
    "import json\n",
    "import imp\n",
    "jsonReader = pd.read_json('transactions.txt',lines=True,chunksize=50000)\n",
    "df = next(jsonReader)"
   ]
  },
  {
   "cell_type": "code",
   "execution_count": 14,
   "metadata": {
    "autoscroll": false,
    "collapsed": false,
    "ein.hycell": false,
    "ein.tags": "worksheet-0",
    "jupyter": {
     "outputs_hidden": false
    },
    "slideshow": {
     "slide_type": "-"
    }
   },
   "outputs": [
    {
     "data": {
      "text/plain": [
       "accountNumber                         737265056\n",
       "customerId                            737265056\n",
       "creditLimit                                5000\n",
       "availableMoney                             5000\n",
       "transactionDateTime         2016-08-13 14:27:32\n",
       "transactionAmount                         98.55\n",
       "merchantName                               Uber\n",
       "acqCountry                                   US\n",
       "merchantCountryCode                          US\n",
       "posEntryMode                                 02\n",
       "posConditionCode                             01\n",
       "merchantCategoryCode                  rideshare\n",
       "currentExpDate                          06/2023\n",
       "accountOpenDate                      2015-03-14\n",
       "dateOfLastAddressChange              2015-03-14\n",
       "cardCVV                                     414\n",
       "enteredCVV                                  414\n",
       "cardLast4Digits                            1803\n",
       "transactionType                        PURCHASE\n",
       "echoBuffer                                     \n",
       "currentBalance                                0\n",
       "merchantCity                                   \n",
       "merchantState                                  \n",
       "merchantZip                                    \n",
       "cardPresent                               False\n",
       "posOnPremises                                  \n",
       "recurringAuthInd                               \n",
       "expirationDateKeyInMatch                  False\n",
       "isFraud                                   False\n",
       "Name: 0, dtype: object"
      ]
     },
     "execution_count": 14,
     "metadata": {},
     "output_type": "execute_result"
    }
   ],
   "source": [
    "df['transactionDateTime'] = pd.to_datetime(df.transactionDateTime)\n",
    "df.iloc[0]"
   ]
  },
  {
   "cell_type": "markdown",
   "metadata": {
    "ein.tags": "worksheet-0",
    "slideshow": {
     "slide_type": "-"
    }
   },
   "source": [
    "1(b) Please describe the structure of the data. Number of records and fields in each record?"
   ]
  },
  {
   "cell_type": "markdown",
   "metadata": {
    "ein.tags": "worksheet-0",
    "slideshow": {
     "slide_type": "-"
    }
   },
   "source": [
    "1(c) Please provide some additional basic summary statistics for each field. Be sure to include a count of null, minimum, maximum, and unique values where appropriate.\n",
    "\n",
    "Below are the statistics across the entire dataset. Note that the means are skewed just by the range of customers"
   ]
  },
  {
   "cell_type": "code",
   "execution_count": 15,
   "metadata": {
    "autoscroll": false,
    "collapsed": false,
    "ein.hycell": false,
    "ein.tags": "worksheet-0",
    "jupyter": {
     "outputs_hidden": false
    },
    "slideshow": {
     "slide_type": "-"
    }
   },
   "outputs": [
    {
     "data": {
      "text/html": [
       "<div>\n",
       "<style scoped>\n",
       "    .dataframe tbody tr th:only-of-type {\n",
       "        vertical-align: middle;\n",
       "    }\n",
       "\n",
       "    .dataframe tbody tr th {\n",
       "        vertical-align: top;\n",
       "    }\n",
       "\n",
       "    .dataframe thead th {\n",
       "        text-align: right;\n",
       "    }\n",
       "</style>\n",
       "<table border=\"1\" class=\"dataframe\">\n",
       "  <thead>\n",
       "    <tr style=\"text-align: right;\">\n",
       "      <th></th>\n",
       "      <th>accountNumber</th>\n",
       "      <th>customerId</th>\n",
       "      <th>creditLimit</th>\n",
       "      <th>availableMoney</th>\n",
       "      <th>transactionAmount</th>\n",
       "      <th>cardCVV</th>\n",
       "      <th>enteredCVV</th>\n",
       "      <th>cardLast4Digits</th>\n",
       "      <th>currentBalance</th>\n",
       "    </tr>\n",
       "  </thead>\n",
       "  <tbody>\n",
       "    <tr>\n",
       "      <th>count</th>\n",
       "      <td>5.000000e+04</td>\n",
       "      <td>5.000000e+04</td>\n",
       "      <td>50000.000000</td>\n",
       "      <td>50000.000000</td>\n",
       "      <td>50000.000000</td>\n",
       "      <td>50000.000000</td>\n",
       "      <td>50000.000000</td>\n",
       "      <td>50000.000000</td>\n",
       "      <td>50000.000000</td>\n",
       "    </tr>\n",
       "    <tr>\n",
       "      <th>mean</th>\n",
       "      <td>5.355273e+08</td>\n",
       "      <td>5.355273e+08</td>\n",
       "      <td>9708.655000</td>\n",
       "      <td>5849.056806</td>\n",
       "      <td>137.208715</td>\n",
       "      <td>496.126380</td>\n",
       "      <td>496.017860</td>\n",
       "      <td>4384.211720</td>\n",
       "      <td>3859.598194</td>\n",
       "    </tr>\n",
       "    <tr>\n",
       "      <th>std</th>\n",
       "      <td>2.433660e+08</td>\n",
       "      <td>2.433660e+08</td>\n",
       "      <td>10611.480171</td>\n",
       "      <td>8850.203442</td>\n",
       "      <td>148.040037</td>\n",
       "      <td>275.432567</td>\n",
       "      <td>275.386515</td>\n",
       "      <td>2614.410113</td>\n",
       "      <td>5401.595431</td>\n",
       "    </tr>\n",
       "    <tr>\n",
       "      <th>min</th>\n",
       "      <td>1.013807e+08</td>\n",
       "      <td>1.013807e+08</td>\n",
       "      <td>250.000000</td>\n",
       "      <td>-793.620000</td>\n",
       "      <td>0.000000</td>\n",
       "      <td>101.000000</td>\n",
       "      <td>3.000000</td>\n",
       "      <td>0.000000</td>\n",
       "      <td>0.000000</td>\n",
       "    </tr>\n",
       "    <tr>\n",
       "      <th>25%</th>\n",
       "      <td>3.825957e+08</td>\n",
       "      <td>3.825957e+08</td>\n",
       "      <td>5000.000000</td>\n",
       "      <td>981.140000</td>\n",
       "      <td>33.800000</td>\n",
       "      <td>221.000000</td>\n",
       "      <td>221.000000</td>\n",
       "      <td>2701.000000</td>\n",
       "      <td>493.882500</td>\n",
       "    </tr>\n",
       "    <tr>\n",
       "      <th>50%</th>\n",
       "      <td>4.489626e+08</td>\n",
       "      <td>4.489626e+08</td>\n",
       "      <td>5000.000000</td>\n",
       "      <td>2852.690000</td>\n",
       "      <td>87.355000</td>\n",
       "      <td>494.000000</td>\n",
       "      <td>494.000000</td>\n",
       "      <td>3624.000000</td>\n",
       "      <td>2166.975000</td>\n",
       "    </tr>\n",
       "    <tr>\n",
       "      <th>75%</th>\n",
       "      <td>7.452174e+08</td>\n",
       "      <td>7.452174e+08</td>\n",
       "      <td>15000.000000</td>\n",
       "      <td>7005.870000</td>\n",
       "      <td>191.432500</td>\n",
       "      <td>723.000000</td>\n",
       "      <td>723.000000</td>\n",
       "      <td>6317.000000</td>\n",
       "      <td>4638.300000</td>\n",
       "    </tr>\n",
       "    <tr>\n",
       "      <th>max</th>\n",
       "      <td>9.963628e+08</td>\n",
       "      <td>9.963628e+08</td>\n",
       "      <td>50000.000000</td>\n",
       "      <td>50000.000000</td>\n",
       "      <td>1434.500000</td>\n",
       "      <td>995.000000</td>\n",
       "      <td>998.000000</td>\n",
       "      <td>9945.000000</td>\n",
       "      <td>47489.500000</td>\n",
       "    </tr>\n",
       "  </tbody>\n",
       "</table>\n",
       "</div>"
      ],
      "text/plain": [
       "       accountNumber    customerId   creditLimit  availableMoney  \\\n",
       "count   5.000000e+04  5.000000e+04  50000.000000    50000.000000   \n",
       "mean    5.355273e+08  5.355273e+08   9708.655000     5849.056806   \n",
       "std     2.433660e+08  2.433660e+08  10611.480171     8850.203442   \n",
       "min     1.013807e+08  1.013807e+08    250.000000     -793.620000   \n",
       "25%     3.825957e+08  3.825957e+08   5000.000000      981.140000   \n",
       "50%     4.489626e+08  4.489626e+08   5000.000000     2852.690000   \n",
       "75%     7.452174e+08  7.452174e+08  15000.000000     7005.870000   \n",
       "max     9.963628e+08  9.963628e+08  50000.000000    50000.000000   \n",
       "\n",
       "       transactionAmount       cardCVV    enteredCVV  cardLast4Digits  \\\n",
       "count       50000.000000  50000.000000  50000.000000     50000.000000   \n",
       "mean          137.208715    496.126380    496.017860      4384.211720   \n",
       "std           148.040037    275.432567    275.386515      2614.410113   \n",
       "min             0.000000    101.000000      3.000000         0.000000   \n",
       "25%            33.800000    221.000000    221.000000      2701.000000   \n",
       "50%            87.355000    494.000000    494.000000      3624.000000   \n",
       "75%           191.432500    723.000000    723.000000      6317.000000   \n",
       "max          1434.500000    995.000000    998.000000      9945.000000   \n",
       "\n",
       "       currentBalance  \n",
       "count    50000.000000  \n",
       "mean      3859.598194  \n",
       "std       5401.595431  \n",
       "min          0.000000  \n",
       "25%        493.882500  \n",
       "50%       2166.975000  \n",
       "75%       4638.300000  \n",
       "max      47489.500000  "
      ]
     },
     "execution_count": 15,
     "metadata": {},
     "output_type": "execute_result"
    }
   ],
   "source": [
    "df.describe()"
   ]
  },
  {
   "cell_type": "markdown",
   "metadata": {
    "ein.tags": "worksheet-0",
    "slideshow": {
     "slide_type": "-"
    }
   },
   "source": [
    "## Question 2: Plot\n",
    "- Plot a histogram of the processed amounts of each transaction, the transactionAmount column.\n",
    "- Report any structure you find and any hypotheses you have about that structure."
   ]
  },
  {
   "cell_type": "markdown",
   "metadata": {
    "ein.tags": "worksheet-0",
    "slideshow": {
     "slide_type": "-"
    }
   },
   "source": [
    "Below is a histogram of transaction amounts\n",
    "\n",
    "A structure I observed is that fradulent transactions appear to have a peak at around 90 to 100 USD"
   ]
  },
  {
   "cell_type": "code",
   "execution_count": 16,
   "metadata": {
    "autoscroll": false,
    "collapsed": false,
    "ein.hycell": false,
    "ein.tags": "worksheet-0",
    "jupyter": {
     "outputs_hidden": false
    },
    "slideshow": {
     "slide_type": "-"
    }
   },
   "outputs": [
    {
     "data": {
      "image/png": "[encoded data removed]",
      "text/plain": [
       "<Figure size 432x288 with 1 Axes>"
      ]
     },
     "metadata": {
      "needs_background": "light"
     },
     "output_type": "display_data"
    }
   ],
   "source": [
    "plt.hist(df[df.isFraud==False].transactionAmount,bins=40,label='not Fraud',density=True)\n",
    "plt.hist(df[df.isFraud==True].transactionAmount,bins=40,label='isFraud',density=True)\n",
    "plt.title(\"Distribution of Transaction Amount vs Num of Samples\")\n",
    "plt.ylabel(\"num of samples\")\n",
    "plt.xlabel(\"transaction amount\")\n",
    "plt.legend()\n",
    "plt.show()"
   ]
  },
  {
   "cell_type": "markdown",
   "metadata": {
    "ein.tags": "worksheet-0",
    "slideshow": {
     "slide_type": "-"
    }
   },
   "source": [
    "## Question 3: Data Wrangling - Duplicate Transactions\n",
    "You will notice a number of what look like duplicated transactions in the data set. One type of duplicated transaction is a reversed transaction, where a purchase is followed by a reversal. Another example is a multi-swipe, where a vendor accidentally charges a customer's card multiple times within a short time span.\n",
    "- Can you programmatically identify reversed and multi-swipe transactions?\n",
    "- What total number of transactions and total dollar amount do you estimate for the reversed transactions? For the multi-swipe transactions? (please consider the first transaction to be \"normal\" and exclude it from the number of transaction and dollar amount counts)\n",
    "- Did you find anything interesting about either kind of transaction?\n",
    "\n",
    "\n",
    "Questions about dataset:\n",
    "ask abotu 'duplicate transactions', \n",
    "why is available money unchanging for some people, how far aprt does a tx have to be in order for it not to be a duplicate\n"
   ]
  },
  {
   "cell_type": "code",
   "execution_count": 17,
   "metadata": {
    "autoscroll": false,
    "collapsed": false,
    "ein.hycell": false,
    "ein.tags": "worksheet-0",
    "jupyter": {
     "outputs_hidden": false
    },
    "slideshow": {
     "slide_type": "-"
    }
   },
   "outputs": [
    {
     "data": {
      "text/plain": [
       "array(['', 'ADDRESS_VERIFICATION', 'PURCHASE', 'REVERSAL'], dtype=object)"
      ]
     },
     "execution_count": 17,
     "metadata": {},
     "output_type": "execute_result"
    }
   ],
   "source": [
    "\"\"\"\n",
    "There are four different types of transaction types:\n",
    "address verification, purchase, and reversal\n",
    "\"\"\"\n",
    "np.unique(df.transactionType)"
   ]
  },
  {
   "cell_type": "code",
   "execution_count": 18,
   "metadata": {
    "autoscroll": false,
    "collapsed": false,
    "ein.hycell": false,
    "ein.tags": "worksheet-0",
    "jupyter": {
     "outputs_hidden": false
    },
    "slideshow": {
     "slide_type": "-"
    }
   },
   "outputs": [],
   "source": [
    "import scripts.utils as utils\n",
    "imp.reload(utils)\n",
    "# First start with one account, look at account with highest number of txs\n",
    "accts, counts = np.unique(df['accountNumber'],return_counts=True)\n",
    "\n",
    "# Subselect the account with highest activity, and sort by transaction\n",
    "acctIdMostTransactions = accts[np.argmax(counts)]\n",
    "\n",
    "\"\"\"\n",
    "with respect to detecting reverse transactions,\n",
    "the only way to predict them were if the transaction amount\n",
    "is the same\n",
    "\"\"\"\n",
    "duplicateTxs = utils.predictDuplicateByUser(df,acctIdMostTransactions)\n"
   ]
  },
  {
   "cell_type": "markdown",
   "metadata": {
    "ein.tags": "worksheet-0",
    "slideshow": {
     "slide_type": "-"
    }
   },
   "source": [
    "## Question 4: Model\n",
    "Fraud is a problem for any bank. Fraud can take many forms, whether it is someone stealing a single credit card, to large batches of stolen credit card numbers being used on the web, or even a mass compromise of credit card numbers stolen from a merchant via tools like credit card skimming devices.\n",
    "- Each of the transactions in the dataset has a field called isFraud. Please build a predictive model to determine whether a given transaction will be fraudulent or not. Use as much of the data as you like (or all of it).\n",
    "- Provide an estimate of performance using an appropriate sample, and show your work.\n",
    "- Please explain your methodology (modeling algorithm/method used and why, what features/data you found useful, what questions you have, and what you would do next with more time)\n",
    "Thank you very much for your efforts! We look forward to reviewing your insights!\n",
    "\n",
    "- \"credit card skimmers\" if one pos had significant # of fraudulent txs consider looking at it\n",
    "- engineered feature of time between last transaction?\n"
   ]
  },
  {
   "cell_type": "code",
   "execution_count": 19,
   "metadata": {
    "autoscroll": false,
    "collapsed": false,
    "ein.hycell": false,
    "ein.tags": "worksheet-0",
    "jupyter": {
     "outputs_hidden": false
    },
    "slideshow": {
     "slide_type": "-"
    }
   },
   "outputs": [
    {
     "name": "stdout",
     "output_type": "stream",
     "text": [
      "Training set\n",
      "False    36983\n",
      "True       517\n",
      "Name: isFraud, dtype: int64\n",
      "True     36983\n",
      "False    36983\n",
      "Name: isFraud, dtype: int64\n",
      "Testing set\n",
      "False    12334\n",
      "True       166\n",
      "Name: isFraud, dtype: int64\n",
      "True     12334\n",
      "False    12334\n",
      "Name: isFraud, dtype: int64\n"
     ]
    }
   ],
   "source": [
    "import torch\n",
    "import scripts.Dataset as dataset\n",
    "from sklearn.model_selection import train_test_split\n",
    "\n",
    "\"\"\"\n",
    "Data preloading\n",
    "\"\"\"\n",
    "import scripts.utils as utils\n",
    "imp.reload(utils)\n",
    "\n",
    "# this iterates through each\n",
    "allUserTxsDf = utils.calculateUser(df)\n",
    "allUserTxsDf = utils.encodeColumn(allUserTxsDf)\n",
    "allUserTxsDf = utils.encodeColumn(allUserTxsDf,col='merchantCategoryCode')\n",
    "train_df_un,test_df_un = train_test_split(allUserTxsDf,test_size=0.25, random_state=10)\n",
    "train_df = utils.upsampleMinority(train_df_un)\n",
    "test_df = utils.upsampleMinority(test_df_un)\n",
    "\n",
    "imp.reload(dataset)\n",
    "print(\"Training set\")\n",
    "print(train_df_un.isFraud.value_counts())\n",
    "print(train_df.isFraud.value_counts())\n",
    "print(\"Testing set\")\n",
    "print(test_df_un.isFraud.value_counts())\n",
    "print(test_df.isFraud.value_counts())\n",
    "\n",
    "#train_df,test_df = train_test_split(balancedDf,test_size=0.25, random_state=10)\n",
    "trainDataset = dataset.DfDataset(train_df)\n",
    "testDataset = dataset.DfDataset(test_df)\n",
    "train_dataset_loader = torch.utils.data.DataLoader(dataset=trainDataset,\n",
    "                                             batch_size=1,\n",
    "                                             shuffle=False)\n",
    "test_dataset_loader = torch.utils.data.DataLoader(dataset=testDataset,\n",
    "                                             batch_size=1,\n",
    "                                             shuffle=False)\n"
   ]
  },
  {
   "cell_type": "code",
   "execution_count": 30,
   "metadata": {
    "autoscroll": false,
    "collapsed": false,
    "ein.hycell": false,
    "ein.tags": "worksheet-0",
    "jupyter": {
     "outputs_hidden": false
    },
    "slideshow": {
     "slide_type": "-"
    }
   },
   "outputs": [
    {
     "name": "stdout",
     "output_type": "stream",
     "text": [
      "i 0: 0.6884455680847168\n",
      "i 1000: 0.6105489730834961\n",
      "i 2000: 0.46709907054901123\n",
      "i 3000: 0.2382887452840805\n",
      "i 4000: 0.09333138912916183\n"
     ]
    }
   ],
   "source": [
    "\"\"\"\n",
    "Implementing a CNN model\n",
    "\"\"\"\n",
    "\n",
    "import scripts.models as m\n",
    "import torch\n",
    "import numpy as np\n",
    "import torch.nn.functional as F\n",
    "torch.manual_seed(0)\n",
    "np.random.seed(0)\n",
    "imp.reload(m)\n",
    "cnnModel = m.Net()#.cuda()\n",
    "optimizer = torch.optim.Adam(cnnModel.parameters(), lr=0.00001)\n",
    "costs = []\n",
    "for epoch in range(1):\n",
    "    for i, (data, labels) in enumerate(train_dataset_loader):\n",
    "        #data, labels = data.cuda(),labels.cuda()\n",
    "        optimizer.zero_grad()\n",
    "        output = cnnModel(data)\n",
    "        loss = F.binary_cross_entropy(output, labels)\n",
    "        loss.backward()\n",
    "        optimizer.step()\n",
    "        if(i%1000 == 0): print(\"i {}: {}\".format(i,loss))\n",
    "        costs.append(loss.item())\n",
    "        if(i>4000): break\n",
    "        pass\n",
    "    pass\n"
   ]
  },
  {
   "cell_type": "code",
   "execution_count": 31,
   "metadata": {
    "autoscroll": false,
    "collapsed": false,
    "ein.hycell": false,
    "ein.tags": "worksheet-0",
    "jupyter": {
     "outputs_hidden": false
    },
    "slideshow": {
     "slide_type": "-"
    }
   },
   "outputs": [
    {
     "name": "stdout",
     "output_type": "stream",
     "text": [
      "mean cross entropy on test dataset: 0.680324848981123\n"
     ]
    }
   ],
   "source": [
    "result = []\n",
    "yHats =[]\n",
    "gts = []\n",
    "\n",
    "for i, (data, labels) in enumerate(test_dataset_loader):\n",
    "    #data,labels = data.cuda(),labels.cuda()\n",
    "    optimizer.zero_grad()\n",
    "    output = cnnModel(data)\n",
    "    yHats.append(output[0].detach())\n",
    "    gts.append(labels[0].detach())    \n",
    "    loss = F.binary_cross_entropy(output, labels)\n",
    "    loss.backward()\n",
    "    optimizer.step()\n",
    "    result.append(loss.item())\n",
    "\n",
    "print(\"mean cross entropy on test dataset: {}\".format(np.mean(result)))"
   ]
  },
  {
   "cell_type": "code",
   "execution_count": 32,
   "metadata": {
    "autoscroll": false,
    "collapsed": false,
    "ein.hycell": false,
    "ein.tags": "worksheet-0",
    "jupyter": {
     "outputs_hidden": false
    },
    "slideshow": {
     "slide_type": "-"
    }
   },
   "outputs": [
    {
     "data": {
      "image/png": "[encoded data removed]",
      "text/plain": [
       "<Figure size 432x288 with 1 Axes>"
      ]
     },
     "metadata": {
      "needs_background": "light"
     },
     "output_type": "display_data"
    },
    {
     "data": {
      "image/png": "[encoded data removed]",
      "text/plain": [
       "<Figure size 432x288 with 1 Axes>"
      ]
     },
     "metadata": {
      "needs_background": "light"
     },
     "output_type": "display_data"
    }
   ],
   "source": [
    "from sklearn.metrics import precision_recall_curve,auc,\\\n",
    "    confusion_matrix,precision_score,accuracy_score, roc_curve\n",
    "\n",
    "yHats = (np.array(yHats))\n",
    "gts = (np.array(gts))\n",
    "precision, recall, thresholds = precision_recall_curve(gts, yHats)\n",
    "fpr,tpr, _ = roc_curve(gts, yHats)\n",
    "plt.plot(fpr,tpr)\n",
    "plt.title(\"ROC Curve\")\n",
    "plt.xlim(0,1)\n",
    "plt.ylim(0,1)\n",
    "plt.ylabel(\"True positive rate\")\n",
    "plt.xlabel(\"False positive rate\")\n",
    "plt.show()\n",
    "\n",
    "plt.plot(recall,precision)\n",
    "plt.title(\"precision recall curve of samples\")\n",
    "plt.xlim(0,1)\n",
    "plt.ylim(0,1)\n",
    "plt.ylabel(\"Precision\")\n",
    "plt.xlabel(\"Recall\")\n",
    "plt.show()"
   ]
  },
  {
   "cell_type": "code",
   "execution_count": 33,
   "metadata": {
    "autoscroll": false,
    "collapsed": false,
    "ein.hycell": false,
    "ein.tags": "worksheet-0",
    "jupyter": {
     "outputs_hidden": false
    },
    "slideshow": {
     "slide_type": "-"
    }
   },
   "outputs": [
    {
     "name": "stdout",
     "output_type": "stream",
     "text": [
      "labels\n",
      "[[12334     0]\n",
      " [ 5156  7178]]\n",
      "auc: 0.9515465791089157\n",
      "acc : 0.79098427112048\n",
      "prec: 1.0\n"
     ]
    }
   ],
   "source": [
    "print(\"labels\")\n",
    "print(confusion_matrix(gts,yHats>0.5))\n",
    "print(\"auc: {}\".format(auc(fpr,tpr)))\n",
    "print(\"acc : {}\".format(accuracy_score(gts,yHats>0.5)))\n",
    "print(\"prec: {}\".format(precision_score(gts,yHats>0.5)))"
   ]
  },
  {
   "cell_type": "raw",
   "metadata": {
    "ein.tags": "worksheet-0",
    "slideshow": {
     "slide_type": "-"
    }
   },
   "source": [
    "from sklearn.preprocessing import normalize\n",
    "normalize(np.array([[0,3],[0,2],[1,1]]),axis=0)\n",
    "\n",
    "\n",
    "\n",
    "\n",
    "\"\"\"\n",
    "scratchwork below\n",
    "\"\"\"\n",
    "\n",
    "allUserTxsDf.columns\n",
    "\n",
    "import scripts.Dataset as dataset\n",
    "import imp\n",
    "imp.reload(dataset)\n",
    "custom_from_csv = dataset.CustomDatasetFromCSV('transactions.txt')\n",
    "dataset_loader = torch.utils.data.DataLoader(dataset=custom_from_csv,\n",
    "                                             batch_size=10,\n",
    "                                             shuffle=False)\n",
    "cnnModel = Net()\n",
    "optimizer = optim.SGD(cnnModel.parameters(), lr=0.001)\n",
    "for i, (data, labels) in enumerate(dataset_loader):\n",
    "    try:\n",
    "        optimizer.zero_grad()\n",
    "        output = cnnModel(datum)\n",
    "        loss = F.mse_loss(output, labels)\n",
    "        loss.backward()\n",
    "        optimizer.step()\n",
    "        if(i%1000==0): print(loss)\n",
    "    except RuntimeError:\n",
    "        print(data.shape)\n",
    "        print(labels.shape) \n",
    "\n",
    "\n",
    "from sklearn.preprocessing import LabelEncoder, OneHotEncoder\n",
    "from sklearn.model_selection import train_test_split\n",
    "from sklearn.utils import resample\n",
    "from sklearn.linear_model import LogisticRegression\n",
    "\n",
    "columns = ['availableMoney','creditLimit','transactionAmount','isFraud',\n",
    "           'transactionDateTime','accountNumber','merchantName']\n",
    "dataset_df = df.head(10000)\n",
    "dataset_df = dataset_df[columns]\n",
    "\n",
    "\n",
    "\n",
    "\n",
    "# creating initial dataframe\n",
    "merchant_types = np.unique(dataset_df.merchantName)\n",
    "merchant_df = pd.DataFrame(merchant_types, columns=['merchant_types'])\n",
    "merchant_df\n",
    "# creating instance of labelencoder\n",
    "labelencoder = LabelEncoder()\n",
    "# Assigning numerical values and storing in another column\n",
    "merchant_df['merchant_cat'] = labelencoder.fit_transform(merchant_df['merchant_types'])\n",
    "dataset_df[dataset_df.isFraud==1].shape\n",
    "# creating instance of one-hot-encoder\n",
    "enc = OneHotEncoder(handle_unknown='ignore')\n",
    "# passing bridge-types-cat column (label encoded values of bridge_types)\n",
    "enc_df = pd.DataFrame(enc.fit_transform(merchant_df[['merchant_cat']]).toarray())\n",
    "# merge with main df and enc_df\n",
    "transactions_df = dataset_df.drop(columns=['merchantName'])\n",
    "transactions_df = transactions_df.join(enc_df).fillna(0)\n",
    "# Separate input features and target\n",
    "y = transactions_df.isFraud\n",
    "X = transactions_df.drop('isFraud', axis=1)\n",
    "# setting up testing and training sets\n",
    "X_train, X_test, y_train, y_test = train_test_split(X, y,\n",
    "                                                    test_size=0.25, random_state=0)\n",
    "# concatenate our training data back together\n",
    "X = pd.concat([X_train, y_train], axis=1)\n",
    "\n",
    "y[y==True].shape\n",
    "# separate minority and majority classes\n",
    "not_fraud = X[X.isFraud==0]\n",
    "fraud = X[X.isFraud==1]\n",
    "\n",
    "# upsample minority\n",
    "fraud_upsampled = resample(fraud,\n",
    "                          replace=True, # sample with replacement\n",
    "                          n_samples=len(not_fraud), # match number in majority class\n",
    "                          random_state=27) # reproducible results\n",
    "# combine majority and upsampled minority\n",
    "upsampled = pd.concat([not_fraud, fraud_upsampled])\n",
    "# check new class counts\n",
    "upsampled.isFraud.value_counts()\n",
    "\n",
    "y_train = upsampled.isFraud\n",
    "X_train = upsampled.drop('isFraud', axis=1)\n",
    "\n",
    "upsampled = LogisticRegression(solver='liblinear').fit(X_train, y_train)\n",
    "\n",
    "upsampled_pred = upsampled.predict(X_test)\n",
    "upsampled_pred_proba = upsampled.predict_proba(X_test)[:,1]\n",
    "\n",
    "# Checking accuracy\n",
    "print(\"acc: {}\".format(accuracy_score(y_test, upsampled_pred)))\n",
    "print(\"f1:  {}\".format(f1_score(y_test, upsampled_pred)))\n",
    "print(\"p : {}\".format(precision_score(y_test, upsampled_pred)))\n",
    "\n",
    "precision, recall, thresholds = precision_recall_curve(y_test,\n",
    "                                                       upsampled_pred_proba)\n",
    "plt.plot(recall,precision)\n",
    "plt.xlabel(\"recall\")\n",
    "plt.ylabel(\"precision\")\n",
    "plt.show()\n",
    "\n",
    "fraud.shape\n",
    "\"\"\"\n",
    "now implementation of autoencoder\n",
    "\"\"\"\n",
    "import scripts.autoencoder as ae\n",
    "from sklearn.preprocessing import normalize\n",
    "import torch\n",
    "import torch.nn.functional as F\n",
    "import imp\n",
    "imp.reload(ae)\n",
    "\n",
    "# normalize( np.array([[0,1],[0,2],[1,3]]),axis=0) \n",
    "# aeX = normalize( transactions_df.drop('isFraud', axis=1).values , axis=0 )\n",
    "aeX = transactions_df.drop('isFraud', axis=1).values \n",
    "aeY = transactions_df.isFraud.values\n",
    "print(aeY[aeY==1].shape)\n",
    "print(aeX.shape)\n",
    "\n",
    "modelAe = ae.Autoencoder(200)\n",
    "\n",
    "t_X = torch.tensor(aeX).float()\n",
    "num_epochs = 2\n",
    "learning_rate=0.0001\n",
    "torch.manual_seed(10)\n",
    "optimizer = torch.optim.Adam(modelAe.parameters(), lr=learning_rate)\n",
    "\n",
    "\n",
    "for epoch in range(num_epochs+1):\n",
    "    for idx in range(npX.shape[0]):\n",
    "        features = t_X[idx,:]            \n",
    "        decoded = modelAe(features)\n",
    "        cost = F.mse_loss(decoded, features)\n",
    "        optimizer.zero_grad()\n",
    "        cost.backward()\n",
    "        optimizer.step()\n",
    "        # Logginh\n",
    "        if not idx % 5000:\n",
    "            print ('Epoch: %03d/%03d | Batch %03d/%03d | Cost: %.4f' \n",
    "                   %(epoch+1, num_epochs, idx, \n",
    "                     npX.shape[0], cost))\n",
    "            pass\n",
    "        pass\n",
    "    pass\n",
    "import matplotlib.pyplot as plt\n",
    "pltRows = np.array(modelAe.encode(t_X).detach())\n",
    "pltX, pltY = pltRows[:,0],pltRows[:,1]\n",
    "\n",
    "plt.figure(figsize=(10,10))\n",
    "# Plot false labels\n",
    "mask = aeY==False\n",
    "plt.scatter(pltX[mask],pltY[mask],label='notFraud',s=0.5)\n",
    "# Plot true labels\n",
    "mask = aeY==True\n",
    "plt.scatter(pltX[mask],pltY[mask],label='isFraud',s=1)\n",
    "plt.legend()\n",
    "plt.plot()\n",
    "### Potential paths of exploration:\n",
    "\n",
    "two potential paths:\n",
    "\n",
    "use a autoencoder\n",
    "\n",
    "train encoder to predict label, freeze the encoder \n",
    "\n",
    "and use CNN to train\n",
    "\n",
    "binary representation of number of labels"
   ]
  },
  {
   "cell_type": "code",
   "execution_count": 192,
   "metadata": {
    "autoscroll": false,
    "collapsed": false,
    "ein.hycell": false,
    "ein.tags": "worksheet-0",
    "jupyter": {
     "outputs_hidden": false
    },
    "slideshow": {
     "slide_type": "-"
    }
   },
   "outputs": [],
   "source": [
    "\"\"\"\n",
    "CNN Implementation\n",
    "\"\"\"\n",
    "import scripts.utils as utils\n",
    "cnndf = pd.concat(utils.calculateUser(df.head(10000)))\n",
    "columns = ['availableMoney','creditLimit','cardPresent','transactionAmount',\n",
    "           'transactionAmountMedian','encodedTime',\n",
    "          'transactionAmountMean','hourDelta','transactionAmountStd']\n",
    "#cnn_df_x = cnndf[columns]\n",
    "#cnn_df_y = cnndf['isFraud']\n",
    "\n"
   ]
  },
  {
   "cell_type": "code",
   "execution_count": 282,
   "metadata": {
    "autoscroll": false,
    "collapsed": false,
    "ein.hycell": false,
    "ein.tags": "worksheet-0",
    "jupyter": {
     "outputs_hidden": false
    },
    "slideshow": {
     "slide_type": "-"
    }
   },
   "outputs": [],
   "source": [
    "\n"
   ]
  },
  {
   "cell_type": "code",
   "execution_count": null,
   "metadata": {
    "autoscroll": false,
    "collapsed": false,
    "ein.hycell": false,
    "ein.tags": "worksheet-0",
    "jupyter": {
     "outputs_hidden": false
    },
    "slideshow": {
     "slide_type": "-"
    }
   },
   "outputs": [],
   "source": []
  }
 ],
 "metadata": {
  "kernelspec": {
   "display_name": "Python 3",
   "language": "python",
   "name": "python3"
  },
  "language_info": {
   "codemirror_mode": {
    "name": "ipython",
    "version": 3
   },
   "file_extension": ".py",
   "mimetype": "text/x-python",
   "name": "python",
   "nbconvert_exporter": "python",
   "pygments_lexer": "ipython3",
   "version": "3.6.9"
  },
  "name": "analysis.ipynb"
 },
 "nbformat": 4,
 "nbformat_minor": 4
}
